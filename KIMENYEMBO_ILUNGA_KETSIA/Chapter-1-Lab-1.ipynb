{
 "cells": [
  {
   "cell_type": "markdown",
   "id": "4c712892-344a-458b-b1db-64ad7ed17753",
   "metadata": {},
   "source": [
    "# A. IMPORTATION DE LIBRARIS"
   ]
  },
  {
   "cell_type": "code",
   "execution_count": 217,
   "id": "6f86de0d-c97f-4be7-af10-43fe42380e3e",
   "metadata": {},
   "outputs": [],
   "source": [
    "# Importation de libraries"
   ]
  },
  {
   "cell_type": "code",
   "execution_count": 218,
   "id": "4e36a8d3-a163-444e-8c69-fd91886730b6",
   "metadata": {},
   "outputs": [],
   "source": [
    "import numpy as np"
   ]
  },
  {
   "cell_type": "markdown",
   "id": "5aa10908-10ee-4f76-a969-8581e2dad36e",
   "metadata": {},
   "source": [
    "# 1. Tableau"
   ]
  },
  {
   "cell_type": "markdown",
   "id": "eaffdafc-5218-4e7f-a248-6f4730e79da0",
   "metadata": {
    "editable": true,
    "slideshow": {
     "slide_type": ""
    },
    "tags": []
   },
   "source": [
    "## 1.1 Tableau a 1 D"
   ]
  },
  {
   "cell_type": "code",
   "execution_count": 219,
   "id": "c7920225-320e-4cd7-913c-5ed360b3e593",
   "metadata": {
    "tags": []
   },
   "outputs": [],
   "source": [
    "# Cration d'un tableau a 1D\n",
    "tab_1D = np.array([2, 4, 6, 8, 10, 12, 14])"
   ]
  },
  {
   "cell_type": "code",
   "execution_count": 220,
   "id": "67f08704-0dfa-48d8-b26d-05c8576cbf19",
   "metadata": {},
   "outputs": [
    {
     "data": {
      "text/plain": [
       "array([ 2,  4,  6,  8, 10, 12, 14])"
      ]
     },
     "execution_count": 220,
     "metadata": {},
     "output_type": "execute_result"
    }
   ],
   "source": [
    "tab_1D"
   ]
  },
  {
   "cell_type": "code",
   "execution_count": 221,
   "id": "87791daf-9c85-465e-962d-9658686de11b",
   "metadata": {},
   "outputs": [
    {
     "name": "stdout",
     "output_type": "stream",
     "text": [
      "[ 2  4  6  8 10 12 14]\n"
     ]
    }
   ],
   "source": [
    "print(tab_1D)"
   ]
  },
  {
   "cell_type": "code",
   "execution_count": 222,
   "id": "ab9657f1-dd4b-426b-aed7-f21c0c642348",
   "metadata": {
    "tags": []
   },
   "outputs": [
    {
     "data": {
      "text/plain": [
       "array([ 2,  4,  6,  8, 10, 12, 14])"
      ]
     },
     "execution_count": 222,
     "metadata": {},
     "output_type": "execute_result"
    }
   ],
   "source": [
    "tab_1D"
   ]
  },
  {
   "cell_type": "code",
   "execution_count": 223,
   "id": "74be9266-78cc-4de3-8947-fc5f6ce36822",
   "metadata": {
    "tags": []
   },
   "outputs": [
    {
     "data": {
      "text/plain": [
       "2"
      ]
     },
     "execution_count": 223,
     "metadata": {},
     "output_type": "execute_result"
    }
   ],
   "source": [
    "tab_1D[0]"
   ]
  },
  {
   "cell_type": "code",
   "execution_count": 224,
   "id": "6615eea7-bae2-42d6-b33d-53eb729e4dc7",
   "metadata": {},
   "outputs": [
    {
     "name": "stdout",
     "output_type": "stream",
     "text": [
      "(7,)\n"
     ]
    }
   ],
   "source": [
    "print(tab_1D.shape)"
   ]
  },
  {
   "cell_type": "code",
   "execution_count": 225,
   "id": "21dfafc5-8bd6-4d90-9b2a-8b5897565022",
   "metadata": {},
   "outputs": [
    {
     "name": "stdout",
     "output_type": "stream",
     "text": [
      "Dimension du Tableau (7,)\n",
      "Type du Tableau <class 'numpy.ndarray'>\n",
      "Voici le Tableau: [ 2  4  6  8 10 12 14]\n"
     ]
    }
   ],
   "source": [
    "print(\"Dimension du Tableau\", tab_1D.shape)\n",
    "print(\"Type du Tableau\", type(tab_1D))\n",
    "print(\"Voici le Tableau:\", tab_1D)"
   ]
  },
  {
   "cell_type": "markdown",
   "id": "136a4ffa-8d5b-471d-8864-a223ef55bb49",
   "metadata": {},
   "source": [
    "## 1.2 Tableau 2D"
   ]
  },
  {
   "cell_type": "code",
   "execution_count": 226,
   "id": "9881342b-03ff-48d6-a029-24f565165b36",
   "metadata": {},
   "outputs": [
    {
     "data": {
      "text/plain": [
       "numpy.ndarray"
      ]
     },
     "execution_count": 226,
     "metadata": {},
     "output_type": "execute_result"
    }
   ],
   "source": [
    "type(tab_1D)"
   ]
  },
  {
   "cell_type": "code",
   "execution_count": 227,
   "id": "dd527e95-7d17-4fb0-b939-06941ca42446",
   "metadata": {},
   "outputs": [],
   "source": [
    "# Creaton d'un tableau a 2D\n",
    "tab_2D = np.array([\n",
    "    [1, 3, 5, 7, 8],\n",
    "    [11, 33, 55, 77, 88],\n",
    "    [10, 30, 50, 70, 80]\n",
    "])"
   ]
  },
  {
   "cell_type": "code",
   "execution_count": 228,
   "id": "5f562c63-3065-4823-8ed5-1b10a307c492",
   "metadata": {},
   "outputs": [
    {
     "name": "stdout",
     "output_type": "stream",
     "text": [
      "Dimension du Tableau (3, 5)\n",
      "Type du Tableau <class 'numpy.ndarray'>\n",
      "[[ 1  3  5  7  8]\n",
      " [11 33 55 77 88]\n",
      " [10 30 50 70 80]]\n"
     ]
    }
   ],
   "source": [
    "print(\"Dimension du Tableau\", tab_2D.shape)\n",
    "print(\"Type du Tableau\", type(tab_2D))\n",
    "print(tab_2D)\n",
    "\n"
   ]
  },
  {
   "cell_type": "code",
   "execution_count": 229,
   "id": "1f4c05cf-d54c-4aef-83eb-75dabb49acea",
   "metadata": {
    "tags": []
   },
   "outputs": [
    {
     "data": {
      "text/plain": [
       "55"
      ]
     },
     "execution_count": 229,
     "metadata": {},
     "output_type": "execute_result"
    }
   ],
   "source": [
    "tab_2D[1] [2]\n"
   ]
  },
  {
   "cell_type": "markdown",
   "id": "c1c68294-f69a-4238-938c-2b992463eabb",
   "metadata": {},
   "source": [
    "## 1.3 Tableau 3D"
   ]
  },
  {
   "cell_type": "code",
   "execution_count": 230,
   "id": "6d188e33-2af1-4a7f-b843-f06bab1f359c",
   "metadata": {},
   "outputs": [],
   "source": [
    "# Creation d'un tableeau 3D\n",
    "tab_3D = np.array([[\n",
    "    [11, 9, 7, 5, 3, 1],\n",
    "    [110, 90, 70, 50, 30, 10],\n",
    "    [115, 95, 75, 55, 35, 15],\n",
    "    [1100, 900, 700, 500, 300, 100],\n",
    "]])"
   ]
  },
  {
   "cell_type": "code",
   "execution_count": 231,
   "id": "75723b5d-7870-43df-8de7-1ed2372970e3",
   "metadata": {},
   "outputs": [
    {
     "name": "stdout",
     "output_type": "stream",
     "text": [
      "Dimension du Tableau (1, 4, 6)\n",
      "Type du Tableau <class 'numpy.ndarray'>\n",
      "[[[  11    9    7    5    3    1]\n",
      "  [ 110   90   70   50   30   10]\n",
      "  [ 115   95   75   55   35   15]\n",
      "  [1100  900  700  500  300  100]]]\n"
     ]
    }
   ],
   "source": [
    "print(\"Dimension du Tableau\", tab_3D.shape)\n",
    "print(\"Type du Tableau\", type(tab_3D))\n",
    "print(tab_3D)"
   ]
  },
  {
   "cell_type": "code",
   "execution_count": 232,
   "id": "fbf8a896-cae2-4066-bcca-c6744d027c03",
   "metadata": {
    "tags": []
   },
   "outputs": [
    {
     "name": "stdout",
     "output_type": "stream",
     "text": [
      "(1, 4, 6)\n",
      "[[[  11    9    7    5    3    1]\n",
      "  [ 110   90   70   50   30   10]\n",
      "  [ 115   95   75   55   35   15]\n",
      "  [1100  900  700  500  300  100]]]\n"
     ]
    }
   ],
   "source": [
    "print(tab_3D.shape)\n",
    "print(tab_3D)"
   ]
  },
  {
   "cell_type": "code",
   "execution_count": 233,
   "id": "005f0cba-cc8c-4ea6-9c77-c37f97b370ad",
   "metadata": {
    "tags": []
   },
   "outputs": [
    {
     "data": {
      "text/plain": [
       "700"
      ]
     },
     "execution_count": 233,
     "metadata": {},
     "output_type": "execute_result"
    }
   ],
   "source": [
    "tab_3D[0] [3] [2]"
   ]
  },
  {
   "cell_type": "markdown",
   "id": "ec6cfc5d-36a9-472d-a939-7e2a2b5f98bd",
   "metadata": {},
   "source": [
    "## 1.4 Tableau a 4D"
   ]
  },
  {
   "cell_type": "code",
   "execution_count": 234,
   "id": "c64fc98d-1d12-458b-b012-6de3607bc7d2",
   "metadata": {},
   "outputs": [],
   "source": [
    "# Creation d'un Tableau a 4D\n",
    "tab_4D = np.array([[[\n",
    "    [2, 4, 6, 8, 10],\n",
    "    [25, 45, 65, 85, 105],\n",
    "    [20, 40, 60, 80, 100],\n",
    "]]])"
   ]
  },
  {
   "cell_type": "code",
   "execution_count": 235,
   "id": "5f9119b2-97fe-4ab2-8d44-84be1d3c298f",
   "metadata": {},
   "outputs": [
    {
     "name": "stdout",
     "output_type": "stream",
     "text": [
      "Dimension du Tableau (1, 1, 3, 5)\n",
      "Type du Tableau <class 'numpy.ndarray'>\n",
      "[[[[  2   4   6   8  10]\n",
      "   [ 25  45  65  85 105]\n",
      "   [ 20  40  60  80 100]]]]\n"
     ]
    }
   ],
   "source": [
    "print(\"Dimension du Tableau\", tab_4D.shape)\n",
    "print(\"Type du Tableau\", type(tab_4D))\n",
    "print(tab_4D)"
   ]
  },
  {
   "cell_type": "code",
   "execution_count": 236,
   "id": "a6f1c3b3-ee68-435f-a9be-046955c207cf",
   "metadata": {
    "tags": []
   },
   "outputs": [
    {
     "data": {
      "text/plain": [
       "85"
      ]
     },
     "execution_count": 236,
     "metadata": {},
     "output_type": "execute_result"
    }
   ],
   "source": [
    "tab_4D[0] [0] [1] [3]"
   ]
  },
  {
   "cell_type": "markdown",
   "id": "da24f735-bc25-4364-93be-cbd644202ef7",
   "metadata": {},
   "source": [
    "# B. OPERATIONS"
   ]
  },
  {
   "cell_type": "code",
   "execution_count": 237,
   "id": "cae37b8d-6fc6-49a8-9b00-d263d6f2e87e",
   "metadata": {
    "tags": []
   },
   "outputs": [],
   "source": [
    "a = np.array([\n",
    "    [2, 4, 6, 8],\n",
    "    [25, 45, 65, 85],\n",
    "])\n",
    "\n",
    "b = np.array([\n",
    "    [20, 40, 60, 80],\n",
    "    [250, 450, 650, 850],\n",
    "])\n",
    "             \n"
   ]
  },
  {
   "cell_type": "code",
   "execution_count": 238,
   "id": "feffb9c1-3058-4dbe-a467-a803dafd216b",
   "metadata": {
    "tags": []
   },
   "outputs": [
    {
     "name": "stdout",
     "output_type": "stream",
     "text": [
      "(2, 4)\n",
      "[[ 2  4  6  8]\n",
      " [25 45 65 85]]\n",
      "(2, 4)\n",
      "[[ 20  40  60  80]\n",
      " [250 450 650 850]]\n"
     ]
    }
   ],
   "source": [
    "print(a.shape)\n",
    "print(a)\n",
    "print(b.shape)\n",
    "print(b)"
   ]
  },
  {
   "cell_type": "code",
   "execution_count": 239,
   "id": "0c9a6af3-b6b9-4062-b622-5d7ae0d08e64",
   "metadata": {
    "tags": []
   },
   "outputs": [
    {
     "name": "stdout",
     "output_type": "stream",
     "text": [
      "[[ 22  44  66  88]\n",
      " [275 495 715 935]]\n"
     ]
    }
   ],
   "source": [
    "#Addition\n",
    "print (a + b)"
   ]
  },
  {
   "cell_type": "code",
   "execution_count": 240,
   "id": "3bc772fa-a08f-49f2-8a6f-4eaad9075c83",
   "metadata": {
    "tags": []
   },
   "outputs": [
    {
     "name": "stdout",
     "output_type": "stream",
     "text": [
      "[[ -18  -36  -54  -72]\n",
      " [-225 -405 -585 -765]]\n"
     ]
    }
   ],
   "source": [
    "#Soustraction\n",
    "print(a - b)"
   ]
  },
  {
   "cell_type": "code",
   "execution_count": 241,
   "id": "7eb90413-913c-4662-94d8-0025801c65b5",
   "metadata": {
    "tags": []
   },
   "outputs": [
    {
     "name": "stdout",
     "output_type": "stream",
     "text": [
      "[[   40   160   360   640]\n",
      " [ 6250 20250 42250 72250]]\n"
     ]
    }
   ],
   "source": [
    "#Multiplication\n",
    "print(a * b)"
   ]
  },
  {
   "cell_type": "code",
   "execution_count": 242,
   "id": "1135d6b7-60cc-4ba1-b886-5703b5ed0f61",
   "metadata": {
    "tags": []
   },
   "outputs": [
    {
     "name": "stdout",
     "output_type": "stream",
     "text": [
      "[[0.1 0.1 0.1 0.1]\n",
      " [0.1 0.1 0.1 0.1]]\n"
     ]
    }
   ],
   "source": [
    "#Division\n",
    "print(a / b)"
   ]
  },
  {
   "cell_type": "markdown",
   "id": "a268e8eb-b7d1-4401-8a79-5d7272bc70b0",
   "metadata": {},
   "source": [
    "# MANIPULATION DES DONNEES"
   ]
  },
  {
   "cell_type": "code",
   "execution_count": 243,
   "id": "3634a4f9-da7d-4b35-8bee-539d986e1ba2",
   "metadata": {
    "tags": []
   },
   "outputs": [],
   "source": [
    "# Creation d'un dictionnaire\n",
    "Info_Etudiants = {\n",
    "    'Matricule' :'2022020030',\n",
    "    'Nom' : 'KASONGO',\n",
    "    'Prenom' : 'David',\n",
    "    'Age' : 23,\n",
    "    'GPA' : 'A'\n",
    "}"
   ]
  },
  {
   "cell_type": "code",
   "execution_count": 244,
   "id": "d3d5172e-8dfe-4766-b9c4-965b73e56f2a",
   "metadata": {
    "tags": []
   },
   "outputs": [
    {
     "data": {
      "text/plain": [
       "{'Matricule': '2022020030',\n",
       " 'Nom': 'KASONGO',\n",
       " 'Prenom': 'David',\n",
       " 'Age': 23,\n",
       " 'GPA': 'A'}"
      ]
     },
     "execution_count": 244,
     "metadata": {},
     "output_type": "execute_result"
    }
   ],
   "source": [
    "Info_Etudiants"
   ]
  },
  {
   "cell_type": "code",
   "execution_count": 245,
   "id": "38119895-69cb-47bf-b266-2ae2dfaf626f",
   "metadata": {
    "tags": []
   },
   "outputs": [
    {
     "name": "stdout",
     "output_type": "stream",
     "text": [
      "{'Matricule': '2022020030', 'Nom': 'KASONGO', 'Prenom': 'David', 'Age': 23, 'GPA': 'A'}\n"
     ]
    }
   ],
   "source": [
    "print(Info_Etudiants)"
   ]
  },
  {
   "cell_type": "code",
   "execution_count": 246,
   "id": "96662200-3620-4cac-b8fb-9e61475eec1c",
   "metadata": {
    "tags": []
   },
   "outputs": [],
   "source": [
    "Info_tous_les_etudiants_BAC_GL_IA = {\n",
    "    'Matricule':['2022020094', '2022123654', '2022020366','2022123654', '2022020040', '2022020090','2022020080','2022020060','2022020050','2022020041'],\n",
    "    'Nom' :[ 'SAMPATWA', 'KATUMBA', 'KIMENYEMBO', 'KALOMBO', 'KALOBO','MWANATAMBWE', 'KASONGO','MAJIT', 'ILUNGA','CHENGE'],\n",
    "    'Prenom' :[ 'Diev', 'Manasse', 'Ketsia', 'Charly', 'Justin','David', 'Wivine', 'Georges', 'Jenny', 'Deborah'],\n",
    "    'Age' : [25,22,12,26,18,25,26,24,32,27,],\n",
    "    'GPA' :['A', 'B', 'A', 'C', 'B', 'A', 'A',  'A', 'A','A' ]\n",
    "}\n",
    "    \n",
    "    "
   ]
  },
  {
   "cell_type": "code",
   "execution_count": 247,
   "id": "3065ddf5-6e3d-4d23-ab13-a4504916c29e",
   "metadata": {
    "tags": []
   },
   "outputs": [
    {
     "data": {
      "text/plain": [
       "{'Matricule': ['2022020094',\n",
       "  '2022123654',\n",
       "  '2022020366',\n",
       "  '2022123654',\n",
       "  '2022020040',\n",
       "  '2022020090',\n",
       "  '2022020080',\n",
       "  '2022020060',\n",
       "  '2022020050',\n",
       "  '2022020041'],\n",
       " 'Nom': ['SAMPATWA',\n",
       "  'KATUMBA',\n",
       "  'KIMENYEMBO',\n",
       "  'KALOMBO',\n",
       "  'KALOBO',\n",
       "  'MWANATAMBWE',\n",
       "  'KASONGO',\n",
       "  'MAJIT',\n",
       "  'ILUNGA',\n",
       "  'CHENGE'],\n",
       " 'Prenom': ['Diev',\n",
       "  'Manasse',\n",
       "  'Ketsia',\n",
       "  'Charly',\n",
       "  'Justin',\n",
       "  'David',\n",
       "  'Wivine',\n",
       "  'Georges',\n",
       "  'Jenny',\n",
       "  'Deborah'],\n",
       " 'Age': [25, 22, 12, 26, 18, 25, 26, 24, 32, 27],\n",
       " 'GPA': ['A', 'B', 'A', 'C', 'B', 'A', 'A', 'A', 'A', 'A']}"
      ]
     },
     "execution_count": 247,
     "metadata": {},
     "output_type": "execute_result"
    }
   ],
   "source": [
    "Info_tous_les_etudiants_BAC_GL_IA "
   ]
  },
  {
   "cell_type": "code",
   "execution_count": 248,
   "id": "0b2d1a29-3eae-44c7-af5a-6d44703af74b",
   "metadata": {
    "tags": []
   },
   "outputs": [
    {
     "name": "stdout",
     "output_type": "stream",
     "text": [
      "{'Matricule': ['2022020094', '2022123654', '2022020366', '2022123654', '2022020040', '2022020090', '2022020080', '2022020060', '2022020050', '2022020041'], 'Nom': ['SAMPATWA', 'KATUMBA', 'KIMENYEMBO', 'KALOMBO', 'KALOBO', 'MWANATAMBWE', 'KASONGO', 'MAJIT', 'ILUNGA', 'CHENGE'], 'Prenom': ['Diev', 'Manasse', 'Ketsia', 'Charly', 'Justin', 'David', 'Wivine', 'Georges', 'Jenny', 'Deborah'], 'Age': [25, 22, 12, 26, 18, 25, 26, 24, 32, 27], 'GPA': ['A', 'B', 'A', 'C', 'B', 'A', 'A', 'A', 'A', 'A']}\n"
     ]
    }
   ],
   "source": [
    "print(Info_tous_les_etudiants_BAC_GL_IA )"
   ]
  },
  {
   "cell_type": "code",
   "execution_count": 249,
   "id": "64c30f54-b444-4810-98e3-45e0ab881543",
   "metadata": {
    "tags": []
   },
   "outputs": [],
   "source": [
    "#Importer Pandas\n",
    "import pandas as pd"
   ]
  },
  {
   "cell_type": "code",
   "execution_count": 250,
   "id": "e8260dfe-565b-43ed-905f-3472e0b83e57",
   "metadata": {
    "tags": []
   },
   "outputs": [],
   "source": [
    "donnees_etudiants = pd.DataFrame(Info_tous_les_etudiants_BAC_GL_IA)"
   ]
  },
  {
   "cell_type": "code",
   "execution_count": 251,
   "id": "74c3f617-5728-4e98-9a27-570ac4fee027",
   "metadata": {
    "tags": []
   },
   "outputs": [
    {
     "data": {
      "text/html": [
       "<div>\n",
       "<style scoped>\n",
       "    .dataframe tbody tr th:only-of-type {\n",
       "        vertical-align: middle;\n",
       "    }\n",
       "\n",
       "    .dataframe tbody tr th {\n",
       "        vertical-align: top;\n",
       "    }\n",
       "\n",
       "    .dataframe thead th {\n",
       "        text-align: right;\n",
       "    }\n",
       "</style>\n",
       "<table border=\"1\" class=\"dataframe\">\n",
       "  <thead>\n",
       "    <tr style=\"text-align: right;\">\n",
       "      <th></th>\n",
       "      <th>Matricule</th>\n",
       "      <th>Nom</th>\n",
       "      <th>Prenom</th>\n",
       "      <th>Age</th>\n",
       "      <th>GPA</th>\n",
       "    </tr>\n",
       "  </thead>\n",
       "  <tbody>\n",
       "    <tr>\n",
       "      <th>0</th>\n",
       "      <td>2022020094</td>\n",
       "      <td>SAMPATWA</td>\n",
       "      <td>Diev</td>\n",
       "      <td>25</td>\n",
       "      <td>A</td>\n",
       "    </tr>\n",
       "    <tr>\n",
       "      <th>1</th>\n",
       "      <td>2022123654</td>\n",
       "      <td>KATUMBA</td>\n",
       "      <td>Manasse</td>\n",
       "      <td>22</td>\n",
       "      <td>B</td>\n",
       "    </tr>\n",
       "    <tr>\n",
       "      <th>2</th>\n",
       "      <td>2022020366</td>\n",
       "      <td>KIMENYEMBO</td>\n",
       "      <td>Ketsia</td>\n",
       "      <td>12</td>\n",
       "      <td>A</td>\n",
       "    </tr>\n",
       "    <tr>\n",
       "      <th>3</th>\n",
       "      <td>2022123654</td>\n",
       "      <td>KALOMBO</td>\n",
       "      <td>Charly</td>\n",
       "      <td>26</td>\n",
       "      <td>C</td>\n",
       "    </tr>\n",
       "    <tr>\n",
       "      <th>4</th>\n",
       "      <td>2022020040</td>\n",
       "      <td>KALOBO</td>\n",
       "      <td>Justin</td>\n",
       "      <td>18</td>\n",
       "      <td>B</td>\n",
       "    </tr>\n",
       "    <tr>\n",
       "      <th>5</th>\n",
       "      <td>2022020090</td>\n",
       "      <td>MWANATAMBWE</td>\n",
       "      <td>David</td>\n",
       "      <td>25</td>\n",
       "      <td>A</td>\n",
       "    </tr>\n",
       "    <tr>\n",
       "      <th>6</th>\n",
       "      <td>2022020080</td>\n",
       "      <td>KASONGO</td>\n",
       "      <td>Wivine</td>\n",
       "      <td>26</td>\n",
       "      <td>A</td>\n",
       "    </tr>\n",
       "    <tr>\n",
       "      <th>7</th>\n",
       "      <td>2022020060</td>\n",
       "      <td>MAJIT</td>\n",
       "      <td>Georges</td>\n",
       "      <td>24</td>\n",
       "      <td>A</td>\n",
       "    </tr>\n",
       "    <tr>\n",
       "      <th>8</th>\n",
       "      <td>2022020050</td>\n",
       "      <td>ILUNGA</td>\n",
       "      <td>Jenny</td>\n",
       "      <td>32</td>\n",
       "      <td>A</td>\n",
       "    </tr>\n",
       "    <tr>\n",
       "      <th>9</th>\n",
       "      <td>2022020041</td>\n",
       "      <td>CHENGE</td>\n",
       "      <td>Deborah</td>\n",
       "      <td>27</td>\n",
       "      <td>A</td>\n",
       "    </tr>\n",
       "  </tbody>\n",
       "</table>\n",
       "</div>"
      ],
      "text/plain": [
       "    Matricule          Nom   Prenom  Age GPA\n",
       "0  2022020094     SAMPATWA     Diev   25   A\n",
       "1  2022123654      KATUMBA  Manasse   22   B\n",
       "2  2022020366   KIMENYEMBO   Ketsia   12   A\n",
       "3  2022123654      KALOMBO   Charly   26   C\n",
       "4  2022020040       KALOBO   Justin   18   B\n",
       "5  2022020090  MWANATAMBWE    David   25   A\n",
       "6  2022020080      KASONGO   Wivine   26   A\n",
       "7  2022020060        MAJIT  Georges   24   A\n",
       "8  2022020050       ILUNGA    Jenny   32   A\n",
       "9  2022020041       CHENGE  Deborah   27   A"
      ]
     },
     "execution_count": 251,
     "metadata": {},
     "output_type": "execute_result"
    }
   ],
   "source": [
    "donnees_etudiants"
   ]
  },
  {
   "cell_type": "code",
   "execution_count": 252,
   "id": "91f3545d-6c63-477b-8cd4-5dafc99b1380",
   "metadata": {
    "tags": []
   },
   "outputs": [
    {
     "data": {
      "text/html": [
       "<div>\n",
       "<style scoped>\n",
       "    .dataframe tbody tr th:only-of-type {\n",
       "        vertical-align: middle;\n",
       "    }\n",
       "\n",
       "    .dataframe tbody tr th {\n",
       "        vertical-align: top;\n",
       "    }\n",
       "\n",
       "    .dataframe thead th {\n",
       "        text-align: right;\n",
       "    }\n",
       "</style>\n",
       "<table border=\"1\" class=\"dataframe\">\n",
       "  <thead>\n",
       "    <tr style=\"text-align: right;\">\n",
       "      <th></th>\n",
       "      <th>Matricule</th>\n",
       "      <th>Nom</th>\n",
       "      <th>Prenom</th>\n",
       "      <th>Age</th>\n",
       "      <th>GPA</th>\n",
       "    </tr>\n",
       "  </thead>\n",
       "  <tbody>\n",
       "    <tr>\n",
       "      <th>0</th>\n",
       "      <td>2022020094</td>\n",
       "      <td>SAMPATWA</td>\n",
       "      <td>Diev</td>\n",
       "      <td>25</td>\n",
       "      <td>A</td>\n",
       "    </tr>\n",
       "    <tr>\n",
       "      <th>1</th>\n",
       "      <td>2022123654</td>\n",
       "      <td>KATUMBA</td>\n",
       "      <td>Manasse</td>\n",
       "      <td>22</td>\n",
       "      <td>B</td>\n",
       "    </tr>\n",
       "    <tr>\n",
       "      <th>2</th>\n",
       "      <td>2022020366</td>\n",
       "      <td>KIMENYEMBO</td>\n",
       "      <td>Ketsia</td>\n",
       "      <td>12</td>\n",
       "      <td>A</td>\n",
       "    </tr>\n",
       "    <tr>\n",
       "      <th>3</th>\n",
       "      <td>2022123654</td>\n",
       "      <td>KALOMBO</td>\n",
       "      <td>Charly</td>\n",
       "      <td>26</td>\n",
       "      <td>C</td>\n",
       "    </tr>\n",
       "  </tbody>\n",
       "</table>\n",
       "</div>"
      ],
      "text/plain": [
       "    Matricule         Nom   Prenom  Age GPA\n",
       "0  2022020094    SAMPATWA     Diev   25   A\n",
       "1  2022123654     KATUMBA  Manasse   22   B\n",
       "2  2022020366  KIMENYEMBO   Ketsia   12   A\n",
       "3  2022123654     KALOMBO   Charly   26   C"
      ]
     },
     "execution_count": 252,
     "metadata": {},
     "output_type": "execute_result"
    }
   ],
   "source": [
    "donnees_etudiants.head(4)"
   ]
  },
  {
   "cell_type": "code",
   "execution_count": 253,
   "id": "a223737c-f146-4c7d-aaef-33a53afe9584",
   "metadata": {
    "tags": []
   },
   "outputs": [
    {
     "data": {
      "text/html": [
       "<div>\n",
       "<style scoped>\n",
       "    .dataframe tbody tr th:only-of-type {\n",
       "        vertical-align: middle;\n",
       "    }\n",
       "\n",
       "    .dataframe tbody tr th {\n",
       "        vertical-align: top;\n",
       "    }\n",
       "\n",
       "    .dataframe thead th {\n",
       "        text-align: right;\n",
       "    }\n",
       "</style>\n",
       "<table border=\"1\" class=\"dataframe\">\n",
       "  <thead>\n",
       "    <tr style=\"text-align: right;\">\n",
       "      <th></th>\n",
       "      <th>Matricule</th>\n",
       "      <th>Nom</th>\n",
       "      <th>Prenom</th>\n",
       "      <th>Age</th>\n",
       "      <th>GPA</th>\n",
       "    </tr>\n",
       "  </thead>\n",
       "  <tbody>\n",
       "    <tr>\n",
       "      <th>8</th>\n",
       "      <td>2022020050</td>\n",
       "      <td>ILUNGA</td>\n",
       "      <td>Jenny</td>\n",
       "      <td>32</td>\n",
       "      <td>A</td>\n",
       "    </tr>\n",
       "    <tr>\n",
       "      <th>9</th>\n",
       "      <td>2022020041</td>\n",
       "      <td>CHENGE</td>\n",
       "      <td>Deborah</td>\n",
       "      <td>27</td>\n",
       "      <td>A</td>\n",
       "    </tr>\n",
       "  </tbody>\n",
       "</table>\n",
       "</div>"
      ],
      "text/plain": [
       "    Matricule     Nom   Prenom  Age GPA\n",
       "8  2022020050  ILUNGA    Jenny   32   A\n",
       "9  2022020041  CHENGE  Deborah   27   A"
      ]
     },
     "execution_count": 253,
     "metadata": {},
     "output_type": "execute_result"
    }
   ],
   "source": [
    "donnees_etudiants.tail(2)"
   ]
  },
  {
   "cell_type": "code",
   "execution_count": 254,
   "id": "0087522e-421c-4fd2-88bf-68d39224e977",
   "metadata": {
    "tags": []
   },
   "outputs": [
    {
     "name": "stdout",
     "output_type": "stream",
     "text": [
      "    Matricule          Nom   Prenom  Age GPA\n",
      "0  2022020094     SAMPATWA     Diev   25   A\n",
      "1  2022123654      KATUMBA  Manasse   22   B\n",
      "2  2022020366   KIMENYEMBO   Ketsia   12   A\n",
      "3  2022123654      KALOMBO   Charly   26   C\n",
      "4  2022020040       KALOBO   Justin   18   B\n",
      "5  2022020090  MWANATAMBWE    David   25   A\n",
      "6  2022020080      KASONGO   Wivine   26   A\n",
      "7  2022020060        MAJIT  Georges   24   A\n",
      "8  2022020050       ILUNGA    Jenny   32   A\n",
      "9  2022020041       CHENGE  Deborah   27   A\n"
     ]
    }
   ],
   "source": [
    "print(donnees_etudiants)"
   ]
  },
  {
   "cell_type": "code",
   "execution_count": 255,
   "id": "34e672a7-d51f-4be4-ad85-b9ba33bf1bd3",
   "metadata": {
    "tags": []
   },
   "outputs": [
    {
     "data": {
      "text/html": [
       "<div>\n",
       "<style scoped>\n",
       "    .dataframe tbody tr th:only-of-type {\n",
       "        vertical-align: middle;\n",
       "    }\n",
       "\n",
       "    .dataframe tbody tr th {\n",
       "        vertical-align: top;\n",
       "    }\n",
       "\n",
       "    .dataframe thead th {\n",
       "        text-align: right;\n",
       "    }\n",
       "</style>\n",
       "<table border=\"1\" class=\"dataframe\">\n",
       "  <thead>\n",
       "    <tr style=\"text-align: right;\">\n",
       "      <th></th>\n",
       "      <th>Matricule</th>\n",
       "      <th>Nom</th>\n",
       "      <th>Prenom</th>\n",
       "      <th>Age</th>\n",
       "      <th>GPA</th>\n",
       "    </tr>\n",
       "  </thead>\n",
       "  <tbody>\n",
       "    <tr>\n",
       "      <th>0</th>\n",
       "      <td>2022020094</td>\n",
       "      <td>SAMPATWA</td>\n",
       "      <td>Diev</td>\n",
       "      <td>25</td>\n",
       "      <td>A</td>\n",
       "    </tr>\n",
       "    <tr>\n",
       "      <th>1</th>\n",
       "      <td>2022123654</td>\n",
       "      <td>KATUMBA</td>\n",
       "      <td>Manasse</td>\n",
       "      <td>22</td>\n",
       "      <td>B</td>\n",
       "    </tr>\n",
       "    <tr>\n",
       "      <th>2</th>\n",
       "      <td>2022020366</td>\n",
       "      <td>KIMENYEMBO</td>\n",
       "      <td>Ketsia</td>\n",
       "      <td>12</td>\n",
       "      <td>A</td>\n",
       "    </tr>\n",
       "    <tr>\n",
       "      <th>3</th>\n",
       "      <td>2022123654</td>\n",
       "      <td>KALOMBO</td>\n",
       "      <td>Charly</td>\n",
       "      <td>26</td>\n",
       "      <td>C</td>\n",
       "    </tr>\n",
       "    <tr>\n",
       "      <th>4</th>\n",
       "      <td>2022020040</td>\n",
       "      <td>KALOBO</td>\n",
       "      <td>Justin</td>\n",
       "      <td>18</td>\n",
       "      <td>B</td>\n",
       "    </tr>\n",
       "  </tbody>\n",
       "</table>\n",
       "</div>"
      ],
      "text/plain": [
       "    Matricule         Nom   Prenom  Age GPA\n",
       "0  2022020094    SAMPATWA     Diev   25   A\n",
       "1  2022123654     KATUMBA  Manasse   22   B\n",
       "2  2022020366  KIMENYEMBO   Ketsia   12   A\n",
       "3  2022123654     KALOMBO   Charly   26   C\n",
       "4  2022020040      KALOBO   Justin   18   B"
      ]
     },
     "execution_count": 255,
     "metadata": {},
     "output_type": "execute_result"
    }
   ],
   "source": [
    "donnees_etudiants.head()"
   ]
  },
  {
   "cell_type": "code",
   "execution_count": 256,
   "id": "743c45ce-ed33-45a8-8bb1-5e11ab05878a",
   "metadata": {
    "tags": []
   },
   "outputs": [
    {
     "data": {
      "text/plain": [
       "0    2022020094\n",
       "1    2022123654\n",
       "2    2022020366\n",
       "3    2022123654\n",
       "4    2022020040\n",
       "5    2022020090\n",
       "6    2022020080\n",
       "7    2022020060\n",
       "8    2022020050\n",
       "9    2022020041\n",
       "Name: Matricule, dtype: object"
      ]
     },
     "execution_count": 256,
     "metadata": {},
     "output_type": "execute_result"
    }
   ],
   "source": [
    "donnees_etudiants['Matricule']"
   ]
  },
  {
   "cell_type": "code",
   "execution_count": 257,
   "id": "c45f8314-ba19-4a86-a0b0-5a3341efbb1e",
   "metadata": {
    "tags": []
   },
   "outputs": [
    {
     "data": {
      "text/html": [
       "<div>\n",
       "<style scoped>\n",
       "    .dataframe tbody tr th:only-of-type {\n",
       "        vertical-align: middle;\n",
       "    }\n",
       "\n",
       "    .dataframe tbody tr th {\n",
       "        vertical-align: top;\n",
       "    }\n",
       "\n",
       "    .dataframe thead th {\n",
       "        text-align: right;\n",
       "    }\n",
       "</style>\n",
       "<table border=\"1\" class=\"dataframe\">\n",
       "  <thead>\n",
       "    <tr style=\"text-align: right;\">\n",
       "      <th></th>\n",
       "      <th>Matricule</th>\n",
       "      <th>Nom</th>\n",
       "    </tr>\n",
       "  </thead>\n",
       "  <tbody>\n",
       "    <tr>\n",
       "      <th>0</th>\n",
       "      <td>2022020094</td>\n",
       "      <td>SAMPATWA</td>\n",
       "    </tr>\n",
       "    <tr>\n",
       "      <th>1</th>\n",
       "      <td>2022123654</td>\n",
       "      <td>KATUMBA</td>\n",
       "    </tr>\n",
       "    <tr>\n",
       "      <th>2</th>\n",
       "      <td>2022020366</td>\n",
       "      <td>KIMENYEMBO</td>\n",
       "    </tr>\n",
       "    <tr>\n",
       "      <th>3</th>\n",
       "      <td>2022123654</td>\n",
       "      <td>KALOMBO</td>\n",
       "    </tr>\n",
       "    <tr>\n",
       "      <th>4</th>\n",
       "      <td>2022020040</td>\n",
       "      <td>KALOBO</td>\n",
       "    </tr>\n",
       "    <tr>\n",
       "      <th>5</th>\n",
       "      <td>2022020090</td>\n",
       "      <td>MWANATAMBWE</td>\n",
       "    </tr>\n",
       "    <tr>\n",
       "      <th>6</th>\n",
       "      <td>2022020080</td>\n",
       "      <td>KASONGO</td>\n",
       "    </tr>\n",
       "    <tr>\n",
       "      <th>7</th>\n",
       "      <td>2022020060</td>\n",
       "      <td>MAJIT</td>\n",
       "    </tr>\n",
       "    <tr>\n",
       "      <th>8</th>\n",
       "      <td>2022020050</td>\n",
       "      <td>ILUNGA</td>\n",
       "    </tr>\n",
       "    <tr>\n",
       "      <th>9</th>\n",
       "      <td>2022020041</td>\n",
       "      <td>CHENGE</td>\n",
       "    </tr>\n",
       "  </tbody>\n",
       "</table>\n",
       "</div>"
      ],
      "text/plain": [
       "    Matricule          Nom\n",
       "0  2022020094     SAMPATWA\n",
       "1  2022123654      KATUMBA\n",
       "2  2022020366   KIMENYEMBO\n",
       "3  2022123654      KALOMBO\n",
       "4  2022020040       KALOBO\n",
       "5  2022020090  MWANATAMBWE\n",
       "6  2022020080      KASONGO\n",
       "7  2022020060        MAJIT\n",
       "8  2022020050       ILUNGA\n",
       "9  2022020041       CHENGE"
      ]
     },
     "execution_count": 257,
     "metadata": {},
     "output_type": "execute_result"
    }
   ],
   "source": [
    "donnees_etudiants[['Matricule', 'Nom']]"
   ]
  },
  {
   "cell_type": "code",
   "execution_count": 258,
   "id": "d606c194-a7e6-4257-ab88-1512dca63865",
   "metadata": {
    "tags": []
   },
   "outputs": [
    {
     "data": {
      "text/html": [
       "<div>\n",
       "<style scoped>\n",
       "    .dataframe tbody tr th:only-of-type {\n",
       "        vertical-align: middle;\n",
       "    }\n",
       "\n",
       "    .dataframe tbody tr th {\n",
       "        vertical-align: top;\n",
       "    }\n",
       "\n",
       "    .dataframe thead th {\n",
       "        text-align: right;\n",
       "    }\n",
       "</style>\n",
       "<table border=\"1\" class=\"dataframe\">\n",
       "  <thead>\n",
       "    <tr style=\"text-align: right;\">\n",
       "      <th></th>\n",
       "      <th>Matricule</th>\n",
       "      <th>Nom</th>\n",
       "      <th>Prenom</th>\n",
       "      <th>Age</th>\n",
       "      <th>GPA</th>\n",
       "    </tr>\n",
       "  </thead>\n",
       "  <tbody>\n",
       "    <tr>\n",
       "      <th>0</th>\n",
       "      <td>2022020094</td>\n",
       "      <td>SAMPATWA</td>\n",
       "      <td>Diev</td>\n",
       "      <td>25</td>\n",
       "      <td>A</td>\n",
       "    </tr>\n",
       "    <tr>\n",
       "      <th>1</th>\n",
       "      <td>2022123654</td>\n",
       "      <td>KATUMBA</td>\n",
       "      <td>Manasse</td>\n",
       "      <td>22</td>\n",
       "      <td>B</td>\n",
       "    </tr>\n",
       "    <tr>\n",
       "      <th>2</th>\n",
       "      <td>2022020366</td>\n",
       "      <td>KIMENYEMBO</td>\n",
       "      <td>Ketsia</td>\n",
       "      <td>12</td>\n",
       "      <td>A</td>\n",
       "    </tr>\n",
       "    <tr>\n",
       "      <th>3</th>\n",
       "      <td>2022123654</td>\n",
       "      <td>KALOMBO</td>\n",
       "      <td>Charly</td>\n",
       "      <td>26</td>\n",
       "      <td>C</td>\n",
       "    </tr>\n",
       "    <tr>\n",
       "      <th>4</th>\n",
       "      <td>2022020040</td>\n",
       "      <td>KALOBO</td>\n",
       "      <td>Justin</td>\n",
       "      <td>18</td>\n",
       "      <td>B</td>\n",
       "    </tr>\n",
       "    <tr>\n",
       "      <th>5</th>\n",
       "      <td>2022020090</td>\n",
       "      <td>MWANATAMBWE</td>\n",
       "      <td>David</td>\n",
       "      <td>25</td>\n",
       "      <td>A</td>\n",
       "    </tr>\n",
       "    <tr>\n",
       "      <th>6</th>\n",
       "      <td>2022020080</td>\n",
       "      <td>KASONGO</td>\n",
       "      <td>Wivine</td>\n",
       "      <td>26</td>\n",
       "      <td>A</td>\n",
       "    </tr>\n",
       "    <tr>\n",
       "      <th>7</th>\n",
       "      <td>2022020060</td>\n",
       "      <td>MAJIT</td>\n",
       "      <td>Georges</td>\n",
       "      <td>24</td>\n",
       "      <td>A</td>\n",
       "    </tr>\n",
       "    <tr>\n",
       "      <th>8</th>\n",
       "      <td>2022020050</td>\n",
       "      <td>ILUNGA</td>\n",
       "      <td>Jenny</td>\n",
       "      <td>32</td>\n",
       "      <td>A</td>\n",
       "    </tr>\n",
       "    <tr>\n",
       "      <th>9</th>\n",
       "      <td>2022020041</td>\n",
       "      <td>CHENGE</td>\n",
       "      <td>Deborah</td>\n",
       "      <td>27</td>\n",
       "      <td>A</td>\n",
       "    </tr>\n",
       "  </tbody>\n",
       "</table>\n",
       "</div>"
      ],
      "text/plain": [
       "    Matricule          Nom   Prenom  Age GPA\n",
       "0  2022020094     SAMPATWA     Diev   25   A\n",
       "1  2022123654      KATUMBA  Manasse   22   B\n",
       "2  2022020366   KIMENYEMBO   Ketsia   12   A\n",
       "3  2022123654      KALOMBO   Charly   26   C\n",
       "4  2022020040       KALOBO   Justin   18   B\n",
       "5  2022020090  MWANATAMBWE    David   25   A\n",
       "6  2022020080      KASONGO   Wivine   26   A\n",
       "7  2022020060        MAJIT  Georges   24   A\n",
       "8  2022020050       ILUNGA    Jenny   32   A\n",
       "9  2022020041       CHENGE  Deborah   27   A"
      ]
     },
     "execution_count": 258,
     "metadata": {},
     "output_type": "execute_result"
    }
   ],
   "source": [
    "donnees_etudiants.iloc[: , :]"
   ]
  },
  {
   "cell_type": "code",
   "execution_count": 259,
   "id": "b2b7b1dd-e0ae-4979-80cc-4d044054f9fa",
   "metadata": {
    "tags": []
   },
   "outputs": [
    {
     "data": {
      "text/html": [
       "<div>\n",
       "<style scoped>\n",
       "    .dataframe tbody tr th:only-of-type {\n",
       "        vertical-align: middle;\n",
       "    }\n",
       "\n",
       "    .dataframe tbody tr th {\n",
       "        vertical-align: top;\n",
       "    }\n",
       "\n",
       "    .dataframe thead th {\n",
       "        text-align: right;\n",
       "    }\n",
       "</style>\n",
       "<table border=\"1\" class=\"dataframe\">\n",
       "  <thead>\n",
       "    <tr style=\"text-align: right;\">\n",
       "      <th></th>\n",
       "      <th>Matricule</th>\n",
       "      <th>Nom</th>\n",
       "      <th>Prenom</th>\n",
       "      <th>Age</th>\n",
       "      <th>GPA</th>\n",
       "    </tr>\n",
       "  </thead>\n",
       "  <tbody>\n",
       "    <tr>\n",
       "      <th>2</th>\n",
       "      <td>2022020366</td>\n",
       "      <td>KIMENYEMBO</td>\n",
       "      <td>Ketsia</td>\n",
       "      <td>12</td>\n",
       "      <td>A</td>\n",
       "    </tr>\n",
       "  </tbody>\n",
       "</table>\n",
       "</div>"
      ],
      "text/plain": [
       "    Matricule         Nom  Prenom  Age GPA\n",
       "2  2022020366  KIMENYEMBO  Ketsia   12   A"
      ]
     },
     "execution_count": 259,
     "metadata": {},
     "output_type": "execute_result"
    }
   ],
   "source": [
    "#Afficher seulement les informations de Ketsia\n",
    "donnees_etudiants.iloc[2:3 , :]"
   ]
  },
  {
   "cell_type": "code",
   "execution_count": 260,
   "id": "716b55de-2140-4b09-a0e3-1036eb158ab8",
   "metadata": {
    "tags": []
   },
   "outputs": [
    {
     "data": {
      "text/html": [
       "<div>\n",
       "<style scoped>\n",
       "    .dataframe tbody tr th:only-of-type {\n",
       "        vertical-align: middle;\n",
       "    }\n",
       "\n",
       "    .dataframe tbody tr th {\n",
       "        vertical-align: top;\n",
       "    }\n",
       "\n",
       "    .dataframe thead th {\n",
       "        text-align: right;\n",
       "    }\n",
       "</style>\n",
       "<table border=\"1\" class=\"dataframe\">\n",
       "  <thead>\n",
       "    <tr style=\"text-align: right;\">\n",
       "      <th></th>\n",
       "      <th>Age</th>\n",
       "    </tr>\n",
       "  </thead>\n",
       "  <tbody>\n",
       "    <tr>\n",
       "      <th>0</th>\n",
       "      <td>25</td>\n",
       "    </tr>\n",
       "    <tr>\n",
       "      <th>1</th>\n",
       "      <td>22</td>\n",
       "    </tr>\n",
       "    <tr>\n",
       "      <th>2</th>\n",
       "      <td>12</td>\n",
       "    </tr>\n",
       "    <tr>\n",
       "      <th>3</th>\n",
       "      <td>26</td>\n",
       "    </tr>\n",
       "    <tr>\n",
       "      <th>4</th>\n",
       "      <td>18</td>\n",
       "    </tr>\n",
       "    <tr>\n",
       "      <th>5</th>\n",
       "      <td>25</td>\n",
       "    </tr>\n",
       "    <tr>\n",
       "      <th>6</th>\n",
       "      <td>26</td>\n",
       "    </tr>\n",
       "    <tr>\n",
       "      <th>7</th>\n",
       "      <td>24</td>\n",
       "    </tr>\n",
       "    <tr>\n",
       "      <th>8</th>\n",
       "      <td>32</td>\n",
       "    </tr>\n",
       "    <tr>\n",
       "      <th>9</th>\n",
       "      <td>27</td>\n",
       "    </tr>\n",
       "  </tbody>\n",
       "</table>\n",
       "</div>"
      ],
      "text/plain": [
       "   Age\n",
       "0   25\n",
       "1   22\n",
       "2   12\n",
       "3   26\n",
       "4   18\n",
       "5   25\n",
       "6   26\n",
       "7   24\n",
       "8   32\n",
       "9   27"
      ]
     },
     "execution_count": 260,
     "metadata": {},
     "output_type": "execute_result"
    }
   ],
   "source": [
    "#Afficher seulement la colonne age\n",
    "donnees_etudiants.iloc[:, 3:4]"
   ]
  },
  {
   "cell_type": "code",
   "execution_count": 261,
   "id": "e268cc25-fb40-418d-9c97-f766768800af",
   "metadata": {
    "tags": []
   },
   "outputs": [
    {
     "data": {
      "text/html": [
       "<div>\n",
       "<style scoped>\n",
       "    .dataframe tbody tr th:only-of-type {\n",
       "        vertical-align: middle;\n",
       "    }\n",
       "\n",
       "    .dataframe tbody tr th {\n",
       "        vertical-align: top;\n",
       "    }\n",
       "\n",
       "    .dataframe thead th {\n",
       "        text-align: right;\n",
       "    }\n",
       "</style>\n",
       "<table border=\"1\" class=\"dataframe\">\n",
       "  <thead>\n",
       "    <tr style=\"text-align: right;\">\n",
       "      <th></th>\n",
       "      <th>Nom</th>\n",
       "    </tr>\n",
       "  </thead>\n",
       "  <tbody>\n",
       "    <tr>\n",
       "      <th>1</th>\n",
       "      <td>KATUMBA</td>\n",
       "    </tr>\n",
       "  </tbody>\n",
       "</table>\n",
       "</div>"
      ],
      "text/plain": [
       "       Nom\n",
       "1  KATUMBA"
      ]
     },
     "execution_count": 261,
     "metadata": {},
     "output_type": "execute_result"
    }
   ],
   "source": [
    "#Affiher seulement le nom KATUMBA\n",
    "donnees_etudiants.iloc[1:2 ,1:2]"
   ]
  },
  {
   "cell_type": "code",
   "execution_count": 262,
   "id": "c7e3c430-85cd-4145-b6fd-3d45ed408fc3",
   "metadata": {
    "tags": []
   },
   "outputs": [],
   "source": [
    "#Ajouter les colonnes\n",
    "donnees_etudiants['Genre'] = ['M','M', 'F', 'M', 'M', 'M', 'F', 'M', 'F', 'F']\n",
    "donnees_etudiants['Pourcentage'] = [67,18,87,90,58,97,56,82,98,75]\n"
   ]
  },
  {
   "cell_type": "code",
   "execution_count": 263,
   "id": "6ef3dbf1-6bac-4534-a952-1c83ecbb2cc6",
   "metadata": {
    "tags": []
   },
   "outputs": [
    {
     "data": {
      "text/html": [
       "<div>\n",
       "<style scoped>\n",
       "    .dataframe tbody tr th:only-of-type {\n",
       "        vertical-align: middle;\n",
       "    }\n",
       "\n",
       "    .dataframe tbody tr th {\n",
       "        vertical-align: top;\n",
       "    }\n",
       "\n",
       "    .dataframe thead th {\n",
       "        text-align: right;\n",
       "    }\n",
       "</style>\n",
       "<table border=\"1\" class=\"dataframe\">\n",
       "  <thead>\n",
       "    <tr style=\"text-align: right;\">\n",
       "      <th></th>\n",
       "      <th>Matricule</th>\n",
       "      <th>Nom</th>\n",
       "      <th>Prenom</th>\n",
       "      <th>Age</th>\n",
       "      <th>GPA</th>\n",
       "      <th>Genre</th>\n",
       "      <th>Pourcentage</th>\n",
       "    </tr>\n",
       "  </thead>\n",
       "  <tbody>\n",
       "    <tr>\n",
       "      <th>0</th>\n",
       "      <td>2022020094</td>\n",
       "      <td>SAMPATWA</td>\n",
       "      <td>Diev</td>\n",
       "      <td>25</td>\n",
       "      <td>A</td>\n",
       "      <td>M</td>\n",
       "      <td>67</td>\n",
       "    </tr>\n",
       "    <tr>\n",
       "      <th>1</th>\n",
       "      <td>2022123654</td>\n",
       "      <td>KATUMBA</td>\n",
       "      <td>Manasse</td>\n",
       "      <td>22</td>\n",
       "      <td>B</td>\n",
       "      <td>M</td>\n",
       "      <td>18</td>\n",
       "    </tr>\n",
       "    <tr>\n",
       "      <th>2</th>\n",
       "      <td>2022020366</td>\n",
       "      <td>KIMENYEMBO</td>\n",
       "      <td>Ketsia</td>\n",
       "      <td>12</td>\n",
       "      <td>A</td>\n",
       "      <td>F</td>\n",
       "      <td>87</td>\n",
       "    </tr>\n",
       "    <tr>\n",
       "      <th>3</th>\n",
       "      <td>2022123654</td>\n",
       "      <td>KALOMBO</td>\n",
       "      <td>Charly</td>\n",
       "      <td>26</td>\n",
       "      <td>C</td>\n",
       "      <td>M</td>\n",
       "      <td>90</td>\n",
       "    </tr>\n",
       "    <tr>\n",
       "      <th>4</th>\n",
       "      <td>2022020040</td>\n",
       "      <td>KALOBO</td>\n",
       "      <td>Justin</td>\n",
       "      <td>18</td>\n",
       "      <td>B</td>\n",
       "      <td>M</td>\n",
       "      <td>58</td>\n",
       "    </tr>\n",
       "    <tr>\n",
       "      <th>5</th>\n",
       "      <td>2022020090</td>\n",
       "      <td>MWANATAMBWE</td>\n",
       "      <td>David</td>\n",
       "      <td>25</td>\n",
       "      <td>A</td>\n",
       "      <td>M</td>\n",
       "      <td>97</td>\n",
       "    </tr>\n",
       "    <tr>\n",
       "      <th>6</th>\n",
       "      <td>2022020080</td>\n",
       "      <td>KASONGO</td>\n",
       "      <td>Wivine</td>\n",
       "      <td>26</td>\n",
       "      <td>A</td>\n",
       "      <td>F</td>\n",
       "      <td>56</td>\n",
       "    </tr>\n",
       "    <tr>\n",
       "      <th>7</th>\n",
       "      <td>2022020060</td>\n",
       "      <td>MAJIT</td>\n",
       "      <td>Georges</td>\n",
       "      <td>24</td>\n",
       "      <td>A</td>\n",
       "      <td>M</td>\n",
       "      <td>82</td>\n",
       "    </tr>\n",
       "    <tr>\n",
       "      <th>8</th>\n",
       "      <td>2022020050</td>\n",
       "      <td>ILUNGA</td>\n",
       "      <td>Jenny</td>\n",
       "      <td>32</td>\n",
       "      <td>A</td>\n",
       "      <td>F</td>\n",
       "      <td>98</td>\n",
       "    </tr>\n",
       "    <tr>\n",
       "      <th>9</th>\n",
       "      <td>2022020041</td>\n",
       "      <td>CHENGE</td>\n",
       "      <td>Deborah</td>\n",
       "      <td>27</td>\n",
       "      <td>A</td>\n",
       "      <td>F</td>\n",
       "      <td>75</td>\n",
       "    </tr>\n",
       "  </tbody>\n",
       "</table>\n",
       "</div>"
      ],
      "text/plain": [
       "    Matricule          Nom   Prenom  Age GPA Genre  Pourcentage\n",
       "0  2022020094     SAMPATWA     Diev   25   A     M           67\n",
       "1  2022123654      KATUMBA  Manasse   22   B     M           18\n",
       "2  2022020366   KIMENYEMBO   Ketsia   12   A     F           87\n",
       "3  2022123654      KALOMBO   Charly   26   C     M           90\n",
       "4  2022020040       KALOBO   Justin   18   B     M           58\n",
       "5  2022020090  MWANATAMBWE    David   25   A     M           97\n",
       "6  2022020080      KASONGO   Wivine   26   A     F           56\n",
       "7  2022020060        MAJIT  Georges   24   A     M           82\n",
       "8  2022020050       ILUNGA    Jenny   32   A     F           98\n",
       "9  2022020041       CHENGE  Deborah   27   A     F           75"
      ]
     },
     "execution_count": 263,
     "metadata": {},
     "output_type": "execute_result"
    }
   ],
   "source": [
    "donnees_etudiants"
   ]
  },
  {
   "cell_type": "code",
   "execution_count": 264,
   "id": "67e73652-8c7a-41d7-a6f5-f414b66ba6d1",
   "metadata": {
    "tags": []
   },
   "outputs": [],
   "source": [
    "#supprimer la colonne GPA\n",
    "donnees_etudiants.drop(columns ='GPA', inplace=True, axis=1)"
   ]
  },
  {
   "cell_type": "code",
   "execution_count": 265,
   "id": "ce49fc70-84d9-4a23-9081-6d63cebc1be1",
   "metadata": {
    "tags": []
   },
   "outputs": [
    {
     "data": {
      "text/html": [
       "<div>\n",
       "<style scoped>\n",
       "    .dataframe tbody tr th:only-of-type {\n",
       "        vertical-align: middle;\n",
       "    }\n",
       "\n",
       "    .dataframe tbody tr th {\n",
       "        vertical-align: top;\n",
       "    }\n",
       "\n",
       "    .dataframe thead th {\n",
       "        text-align: right;\n",
       "    }\n",
       "</style>\n",
       "<table border=\"1\" class=\"dataframe\">\n",
       "  <thead>\n",
       "    <tr style=\"text-align: right;\">\n",
       "      <th></th>\n",
       "      <th>Matricule</th>\n",
       "      <th>Nom</th>\n",
       "      <th>Prenom</th>\n",
       "      <th>Age</th>\n",
       "      <th>Genre</th>\n",
       "      <th>Pourcentage</th>\n",
       "    </tr>\n",
       "  </thead>\n",
       "  <tbody>\n",
       "    <tr>\n",
       "      <th>0</th>\n",
       "      <td>2022020094</td>\n",
       "      <td>SAMPATWA</td>\n",
       "      <td>Diev</td>\n",
       "      <td>25</td>\n",
       "      <td>M</td>\n",
       "      <td>67</td>\n",
       "    </tr>\n",
       "    <tr>\n",
       "      <th>1</th>\n",
       "      <td>2022123654</td>\n",
       "      <td>KATUMBA</td>\n",
       "      <td>Manasse</td>\n",
       "      <td>22</td>\n",
       "      <td>M</td>\n",
       "      <td>18</td>\n",
       "    </tr>\n",
       "    <tr>\n",
       "      <th>2</th>\n",
       "      <td>2022020366</td>\n",
       "      <td>KIMENYEMBO</td>\n",
       "      <td>Ketsia</td>\n",
       "      <td>12</td>\n",
       "      <td>F</td>\n",
       "      <td>87</td>\n",
       "    </tr>\n",
       "    <tr>\n",
       "      <th>3</th>\n",
       "      <td>2022123654</td>\n",
       "      <td>KALOMBO</td>\n",
       "      <td>Charly</td>\n",
       "      <td>26</td>\n",
       "      <td>M</td>\n",
       "      <td>90</td>\n",
       "    </tr>\n",
       "    <tr>\n",
       "      <th>4</th>\n",
       "      <td>2022020040</td>\n",
       "      <td>KALOBO</td>\n",
       "      <td>Justin</td>\n",
       "      <td>18</td>\n",
       "      <td>M</td>\n",
       "      <td>58</td>\n",
       "    </tr>\n",
       "    <tr>\n",
       "      <th>5</th>\n",
       "      <td>2022020090</td>\n",
       "      <td>MWANATAMBWE</td>\n",
       "      <td>David</td>\n",
       "      <td>25</td>\n",
       "      <td>M</td>\n",
       "      <td>97</td>\n",
       "    </tr>\n",
       "    <tr>\n",
       "      <th>6</th>\n",
       "      <td>2022020080</td>\n",
       "      <td>KASONGO</td>\n",
       "      <td>Wivine</td>\n",
       "      <td>26</td>\n",
       "      <td>F</td>\n",
       "      <td>56</td>\n",
       "    </tr>\n",
       "    <tr>\n",
       "      <th>7</th>\n",
       "      <td>2022020060</td>\n",
       "      <td>MAJIT</td>\n",
       "      <td>Georges</td>\n",
       "      <td>24</td>\n",
       "      <td>M</td>\n",
       "      <td>82</td>\n",
       "    </tr>\n",
       "    <tr>\n",
       "      <th>8</th>\n",
       "      <td>2022020050</td>\n",
       "      <td>ILUNGA</td>\n",
       "      <td>Jenny</td>\n",
       "      <td>32</td>\n",
       "      <td>F</td>\n",
       "      <td>98</td>\n",
       "    </tr>\n",
       "    <tr>\n",
       "      <th>9</th>\n",
       "      <td>2022020041</td>\n",
       "      <td>CHENGE</td>\n",
       "      <td>Deborah</td>\n",
       "      <td>27</td>\n",
       "      <td>F</td>\n",
       "      <td>75</td>\n",
       "    </tr>\n",
       "  </tbody>\n",
       "</table>\n",
       "</div>"
      ],
      "text/plain": [
       "    Matricule          Nom   Prenom  Age Genre  Pourcentage\n",
       "0  2022020094     SAMPATWA     Diev   25     M           67\n",
       "1  2022123654      KATUMBA  Manasse   22     M           18\n",
       "2  2022020366   KIMENYEMBO   Ketsia   12     F           87\n",
       "3  2022123654      KALOMBO   Charly   26     M           90\n",
       "4  2022020040       KALOBO   Justin   18     M           58\n",
       "5  2022020090  MWANATAMBWE    David   25     M           97\n",
       "6  2022020080      KASONGO   Wivine   26     F           56\n",
       "7  2022020060        MAJIT  Georges   24     M           82\n",
       "8  2022020050       ILUNGA    Jenny   32     F           98\n",
       "9  2022020041       CHENGE  Deborah   27     F           75"
      ]
     },
     "execution_count": 265,
     "metadata": {},
     "output_type": "execute_result"
    }
   ],
   "source": [
    "donnees_etudiants"
   ]
  },
  {
   "cell_type": "code",
   "execution_count": 266,
   "id": "1385859d-53b2-4412-9f78-01372360e333",
   "metadata": {
    "tags": []
   },
   "outputs": [],
   "source": [
    "#convertirla colonne Genre en M =1 F = 0\n",
    "#1ere methode\n",
    "#Mapping de la colonne Genre\n",
    "Mapping_Genre = {\n",
    "    'M' : 1,\n",
    "    'F' : 0\n",
    "}\n",
    "\n",
    "donnees_etudiants['Genre'] = donnees_etudiants['Genre'].map(Mapping_Genre)\n"
   ]
  },
  {
   "cell_type": "code",
   "execution_count": 267,
   "id": "4d47e2d8-5428-4728-8973-963f5c19e51f",
   "metadata": {
    "tags": []
   },
   "outputs": [
    {
     "data": {
      "text/html": [
       "<div>\n",
       "<style scoped>\n",
       "    .dataframe tbody tr th:only-of-type {\n",
       "        vertical-align: middle;\n",
       "    }\n",
       "\n",
       "    .dataframe tbody tr th {\n",
       "        vertical-align: top;\n",
       "    }\n",
       "\n",
       "    .dataframe thead th {\n",
       "        text-align: right;\n",
       "    }\n",
       "</style>\n",
       "<table border=\"1\" class=\"dataframe\">\n",
       "  <thead>\n",
       "    <tr style=\"text-align: right;\">\n",
       "      <th></th>\n",
       "      <th>Matricule</th>\n",
       "      <th>Nom</th>\n",
       "      <th>Prenom</th>\n",
       "      <th>Age</th>\n",
       "      <th>Genre</th>\n",
       "      <th>Pourcentage</th>\n",
       "    </tr>\n",
       "  </thead>\n",
       "  <tbody>\n",
       "    <tr>\n",
       "      <th>0</th>\n",
       "      <td>2022020094</td>\n",
       "      <td>SAMPATWA</td>\n",
       "      <td>Diev</td>\n",
       "      <td>25</td>\n",
       "      <td>1</td>\n",
       "      <td>67</td>\n",
       "    </tr>\n",
       "    <tr>\n",
       "      <th>1</th>\n",
       "      <td>2022123654</td>\n",
       "      <td>KATUMBA</td>\n",
       "      <td>Manasse</td>\n",
       "      <td>22</td>\n",
       "      <td>1</td>\n",
       "      <td>18</td>\n",
       "    </tr>\n",
       "    <tr>\n",
       "      <th>2</th>\n",
       "      <td>2022020366</td>\n",
       "      <td>KIMENYEMBO</td>\n",
       "      <td>Ketsia</td>\n",
       "      <td>12</td>\n",
       "      <td>0</td>\n",
       "      <td>87</td>\n",
       "    </tr>\n",
       "    <tr>\n",
       "      <th>3</th>\n",
       "      <td>2022123654</td>\n",
       "      <td>KALOMBO</td>\n",
       "      <td>Charly</td>\n",
       "      <td>26</td>\n",
       "      <td>1</td>\n",
       "      <td>90</td>\n",
       "    </tr>\n",
       "    <tr>\n",
       "      <th>4</th>\n",
       "      <td>2022020040</td>\n",
       "      <td>KALOBO</td>\n",
       "      <td>Justin</td>\n",
       "      <td>18</td>\n",
       "      <td>1</td>\n",
       "      <td>58</td>\n",
       "    </tr>\n",
       "    <tr>\n",
       "      <th>5</th>\n",
       "      <td>2022020090</td>\n",
       "      <td>MWANATAMBWE</td>\n",
       "      <td>David</td>\n",
       "      <td>25</td>\n",
       "      <td>1</td>\n",
       "      <td>97</td>\n",
       "    </tr>\n",
       "    <tr>\n",
       "      <th>6</th>\n",
       "      <td>2022020080</td>\n",
       "      <td>KASONGO</td>\n",
       "      <td>Wivine</td>\n",
       "      <td>26</td>\n",
       "      <td>0</td>\n",
       "      <td>56</td>\n",
       "    </tr>\n",
       "    <tr>\n",
       "      <th>7</th>\n",
       "      <td>2022020060</td>\n",
       "      <td>MAJIT</td>\n",
       "      <td>Georges</td>\n",
       "      <td>24</td>\n",
       "      <td>1</td>\n",
       "      <td>82</td>\n",
       "    </tr>\n",
       "    <tr>\n",
       "      <th>8</th>\n",
       "      <td>2022020050</td>\n",
       "      <td>ILUNGA</td>\n",
       "      <td>Jenny</td>\n",
       "      <td>32</td>\n",
       "      <td>0</td>\n",
       "      <td>98</td>\n",
       "    </tr>\n",
       "    <tr>\n",
       "      <th>9</th>\n",
       "      <td>2022020041</td>\n",
       "      <td>CHENGE</td>\n",
       "      <td>Deborah</td>\n",
       "      <td>27</td>\n",
       "      <td>0</td>\n",
       "      <td>75</td>\n",
       "    </tr>\n",
       "  </tbody>\n",
       "</table>\n",
       "</div>"
      ],
      "text/plain": [
       "    Matricule          Nom   Prenom  Age  Genre  Pourcentage\n",
       "0  2022020094     SAMPATWA     Diev   25      1           67\n",
       "1  2022123654      KATUMBA  Manasse   22      1           18\n",
       "2  2022020366   KIMENYEMBO   Ketsia   12      0           87\n",
       "3  2022123654      KALOMBO   Charly   26      1           90\n",
       "4  2022020040       KALOBO   Justin   18      1           58\n",
       "5  2022020090  MWANATAMBWE    David   25      1           97\n",
       "6  2022020080      KASONGO   Wivine   26      0           56\n",
       "7  2022020060        MAJIT  Georges   24      1           82\n",
       "8  2022020050       ILUNGA    Jenny   32      0           98\n",
       "9  2022020041       CHENGE  Deborah   27      0           75"
      ]
     },
     "execution_count": 267,
     "metadata": {},
     "output_type": "execute_result"
    }
   ],
   "source": [
    "donnees_etudiants"
   ]
  },
  {
   "cell_type": "code",
   "execution_count": 270,
   "id": "90b19962-3944-416f-acdf-b923f592fb8f",
   "metadata": {
    "tags": []
   },
   "outputs": [],
   "source": [
    "#2 eme methode\n",
    "donnees_etudiants['Genre']=np.where(donnees_etudiants['Genre'] == 1, 'M', 'F')\n"
   ]
  },
  {
   "cell_type": "code",
   "execution_count": 271,
   "id": "bf116fe5-4b49-4c4a-9b3e-9e919182f787",
   "metadata": {
    "tags": []
   },
   "outputs": [
    {
     "data": {
      "text/html": [
       "<div>\n",
       "<style scoped>\n",
       "    .dataframe tbody tr th:only-of-type {\n",
       "        vertical-align: middle;\n",
       "    }\n",
       "\n",
       "    .dataframe tbody tr th {\n",
       "        vertical-align: top;\n",
       "    }\n",
       "\n",
       "    .dataframe thead th {\n",
       "        text-align: right;\n",
       "    }\n",
       "</style>\n",
       "<table border=\"1\" class=\"dataframe\">\n",
       "  <thead>\n",
       "    <tr style=\"text-align: right;\">\n",
       "      <th></th>\n",
       "      <th>Matricule</th>\n",
       "      <th>Nom</th>\n",
       "      <th>Prenom</th>\n",
       "      <th>Age</th>\n",
       "      <th>Genre</th>\n",
       "      <th>Pourcentage</th>\n",
       "    </tr>\n",
       "  </thead>\n",
       "  <tbody>\n",
       "    <tr>\n",
       "      <th>0</th>\n",
       "      <td>2022020094</td>\n",
       "      <td>SAMPATWA</td>\n",
       "      <td>Diev</td>\n",
       "      <td>25</td>\n",
       "      <td>M</td>\n",
       "      <td>67</td>\n",
       "    </tr>\n",
       "    <tr>\n",
       "      <th>1</th>\n",
       "      <td>2022123654</td>\n",
       "      <td>KATUMBA</td>\n",
       "      <td>Manasse</td>\n",
       "      <td>22</td>\n",
       "      <td>M</td>\n",
       "      <td>18</td>\n",
       "    </tr>\n",
       "    <tr>\n",
       "      <th>2</th>\n",
       "      <td>2022020366</td>\n",
       "      <td>KIMENYEMBO</td>\n",
       "      <td>Ketsia</td>\n",
       "      <td>12</td>\n",
       "      <td>F</td>\n",
       "      <td>87</td>\n",
       "    </tr>\n",
       "    <tr>\n",
       "      <th>3</th>\n",
       "      <td>2022123654</td>\n",
       "      <td>KALOMBO</td>\n",
       "      <td>Charly</td>\n",
       "      <td>26</td>\n",
       "      <td>M</td>\n",
       "      <td>90</td>\n",
       "    </tr>\n",
       "    <tr>\n",
       "      <th>4</th>\n",
       "      <td>2022020040</td>\n",
       "      <td>KALOBO</td>\n",
       "      <td>Justin</td>\n",
       "      <td>18</td>\n",
       "      <td>M</td>\n",
       "      <td>58</td>\n",
       "    </tr>\n",
       "    <tr>\n",
       "      <th>5</th>\n",
       "      <td>2022020090</td>\n",
       "      <td>MWANATAMBWE</td>\n",
       "      <td>David</td>\n",
       "      <td>25</td>\n",
       "      <td>M</td>\n",
       "      <td>97</td>\n",
       "    </tr>\n",
       "    <tr>\n",
       "      <th>6</th>\n",
       "      <td>2022020080</td>\n",
       "      <td>KASONGO</td>\n",
       "      <td>Wivine</td>\n",
       "      <td>26</td>\n",
       "      <td>F</td>\n",
       "      <td>56</td>\n",
       "    </tr>\n",
       "    <tr>\n",
       "      <th>7</th>\n",
       "      <td>2022020060</td>\n",
       "      <td>MAJIT</td>\n",
       "      <td>Georges</td>\n",
       "      <td>24</td>\n",
       "      <td>M</td>\n",
       "      <td>82</td>\n",
       "    </tr>\n",
       "    <tr>\n",
       "      <th>8</th>\n",
       "      <td>2022020050</td>\n",
       "      <td>ILUNGA</td>\n",
       "      <td>Jenny</td>\n",
       "      <td>32</td>\n",
       "      <td>F</td>\n",
       "      <td>98</td>\n",
       "    </tr>\n",
       "    <tr>\n",
       "      <th>9</th>\n",
       "      <td>2022020041</td>\n",
       "      <td>CHENGE</td>\n",
       "      <td>Deborah</td>\n",
       "      <td>27</td>\n",
       "      <td>F</td>\n",
       "      <td>75</td>\n",
       "    </tr>\n",
       "  </tbody>\n",
       "</table>\n",
       "</div>"
      ],
      "text/plain": [
       "    Matricule          Nom   Prenom  Age Genre  Pourcentage\n",
       "0  2022020094     SAMPATWA     Diev   25     M           67\n",
       "1  2022123654      KATUMBA  Manasse   22     M           18\n",
       "2  2022020366   KIMENYEMBO   Ketsia   12     F           87\n",
       "3  2022123654      KALOMBO   Charly   26     M           90\n",
       "4  2022020040       KALOBO   Justin   18     M           58\n",
       "5  2022020090  MWANATAMBWE    David   25     M           97\n",
       "6  2022020080      KASONGO   Wivine   26     F           56\n",
       "7  2022020060        MAJIT  Georges   24     M           82\n",
       "8  2022020050       ILUNGA    Jenny   32     F           98\n",
       "9  2022020041       CHENGE  Deborah   27     F           75"
      ]
     },
     "execution_count": 271,
     "metadata": {},
     "output_type": "execute_result"
    }
   ],
   "source": [
    "donnees_etudiants\n"
   ]
  },
  {
   "cell_type": "code",
   "execution_count": 272,
   "id": "50dee16d-645a-411c-8359-c9bed0dbfb14",
   "metadata": {
    "tags": []
   },
   "outputs": [
    {
     "name": "stdout",
     "output_type": "stream",
     "text": [
      "<class 'pandas.core.frame.DataFrame'>\n",
      "RangeIndex: 10 entries, 0 to 9\n",
      "Data columns (total 6 columns):\n",
      " #   Column       Non-Null Count  Dtype \n",
      "---  ------       --------------  ----- \n",
      " 0   Matricule    10 non-null     object\n",
      " 1   Nom          10 non-null     object\n",
      " 2   Prenom       10 non-null     object\n",
      " 3   Age          10 non-null     int64 \n",
      " 4   Genre        10 non-null     object\n",
      " 5   Pourcentage  10 non-null     int64 \n",
      "dtypes: int64(2), object(4)\n",
      "memory usage: 612.0+ bytes\n"
     ]
    }
   ],
   "source": [
    "donnees_etudiants.info()"
   ]
  },
  {
   "cell_type": "markdown",
   "id": "e10af6f5-5384-4375-8518-81211c9a9f28",
   "metadata": {},
   "source": [
    "# VISUALISATION DES DONNEES"
   ]
  },
  {
   "cell_type": "code",
   "execution_count": 273,
   "id": "de9de374-2484-449b-bcdd-3eff2b7e2294",
   "metadata": {
    "tags": []
   },
   "outputs": [],
   "source": [
    "#CREATION DE DONNES\n",
    "X = np.linspace(0, 2, 50)"
   ]
  },
  {
   "cell_type": "code",
   "execution_count": 274,
   "id": "4dc70490-a3cb-4b9f-a109-ab93c13d423a",
   "metadata": {
    "tags": []
   },
   "outputs": [
    {
     "data": {
      "text/plain": [
       "array([0.        , 0.04081633, 0.08163265, 0.12244898, 0.16326531,\n",
       "       0.20408163, 0.24489796, 0.28571429, 0.32653061, 0.36734694,\n",
       "       0.40816327, 0.44897959, 0.48979592, 0.53061224, 0.57142857,\n",
       "       0.6122449 , 0.65306122, 0.69387755, 0.73469388, 0.7755102 ,\n",
       "       0.81632653, 0.85714286, 0.89795918, 0.93877551, 0.97959184,\n",
       "       1.02040816, 1.06122449, 1.10204082, 1.14285714, 1.18367347,\n",
       "       1.2244898 , 1.26530612, 1.30612245, 1.34693878, 1.3877551 ,\n",
       "       1.42857143, 1.46938776, 1.51020408, 1.55102041, 1.59183673,\n",
       "       1.63265306, 1.67346939, 1.71428571, 1.75510204, 1.79591837,\n",
       "       1.83673469, 1.87755102, 1.91836735, 1.95918367, 2.        ])"
      ]
     },
     "execution_count": 274,
     "metadata": {},
     "output_type": "execute_result"
    }
   ],
   "source": [
    "X"
   ]
  },
  {
   "cell_type": "code",
   "execution_count": 277,
   "id": "a4394780-ec98-4e6f-a700-96a2288321b7",
   "metadata": {
    "tags": []
   },
   "outputs": [],
   "source": [
    "#IMPORTER MATPOTLIB\n",
    "import matplotlib.pyplot as plt"
   ]
  },
  {
   "cell_type": "code",
   "execution_count": 282,
   "id": "b941116f-4ed0-4e3c-b1d8-483d4dc2b474",
   "metadata": {
    "tags": []
   },
   "outputs": [
    {
     "data": {
      "text/plain": [
       "<matplotlib.legend.Legend at 0x241a8d96250>"
      ]
     },
     "execution_count": 282,
     "metadata": {},
     "output_type": "execute_result"
    },
    {
     "data": {
      "image/png": "[encoded data removed]",
      "text/plain": [
       "<Figure size 600x400 with 1 Axes>"
      ]
     },
     "metadata": {},
     "output_type": "display_data"
    }
   ],
   "source": [
    "fig, ax = plt.subplots(figsize=(6, 4))\n",
    "ax.plot(X, X*2, label = 'Double')\n",
    "ax.plot (X, X**2, label='Carre de X')\n",
    "ax.plot(X, X**3, label ='Cube de X')\n",
    "ax.set_xlabel('Donnes de X')\n",
    "ax.set_ylabel('Donnes de Y')\n",
    "plt.title('Donnees de linspace entre 0 et 2')\n",
    "ax.legend()"
   ]
  },
  {
   "cell_type": "code",
   "execution_count": 283,
   "id": "7025d262-068f-4067-adb2-9e51bcacc37f",
   "metadata": {
    "tags": []
   },
   "outputs": [],
   "source": [
    "#Importer Seaborn\n",
    "import seaborn as sns"
   ]
  },
  {
   "cell_type": "code",
   "execution_count": 284,
   "id": "9ffd28fc-bce3-46a9-bf01-5a233ba53659",
   "metadata": {
    "tags": []
   },
   "outputs": [],
   "source": [
    "iris_data = sns.load_dataset('iris')"
   ]
  },
  {
   "cell_type": "code",
   "execution_count": 285,
   "id": "8c871c9c-96c1-4f03-85c0-dd5c0365cec7",
   "metadata": {
    "tags": []
   },
   "outputs": [
    {
     "data": {
      "text/html": [
       "<div>\n",
       "<style scoped>\n",
       "    .dataframe tbody tr th:only-of-type {\n",
       "        vertical-align: middle;\n",
       "    }\n",
       "\n",
       "    .dataframe tbody tr th {\n",
       "        vertical-align: top;\n",
       "    }\n",
       "\n",
       "    .dataframe thead th {\n",
       "        text-align: right;\n",
       "    }\n",
       "</style>\n",
       "<table border=\"1\" class=\"dataframe\">\n",
       "  <thead>\n",
       "    <tr style=\"text-align: right;\">\n",
       "      <th></th>\n",
       "      <th>sepal_length</th>\n",
       "      <th>sepal_width</th>\n",
       "      <th>petal_length</th>\n",
       "      <th>petal_width</th>\n",
       "      <th>species</th>\n",
       "    </tr>\n",
       "  </thead>\n",
       "  <tbody>\n",
       "    <tr>\n",
       "      <th>0</th>\n",
       "      <td>5.1</td>\n",
       "      <td>3.5</td>\n",
       "      <td>1.4</td>\n",
       "      <td>0.2</td>\n",
       "      <td>setosa</td>\n",
       "    </tr>\n",
       "    <tr>\n",
       "      <th>1</th>\n",
       "      <td>4.9</td>\n",
       "      <td>3.0</td>\n",
       "      <td>1.4</td>\n",
       "      <td>0.2</td>\n",
       "      <td>setosa</td>\n",
       "    </tr>\n",
       "    <tr>\n",
       "      <th>2</th>\n",
       "      <td>4.7</td>\n",
       "      <td>3.2</td>\n",
       "      <td>1.3</td>\n",
       "      <td>0.2</td>\n",
       "      <td>setosa</td>\n",
       "    </tr>\n",
       "    <tr>\n",
       "      <th>3</th>\n",
       "      <td>4.6</td>\n",
       "      <td>3.1</td>\n",
       "      <td>1.5</td>\n",
       "      <td>0.2</td>\n",
       "      <td>setosa</td>\n",
       "    </tr>\n",
       "    <tr>\n",
       "      <th>4</th>\n",
       "      <td>5.0</td>\n",
       "      <td>3.6</td>\n",
       "      <td>1.4</td>\n",
       "      <td>0.2</td>\n",
       "      <td>setosa</td>\n",
       "    </tr>\n",
       "  </tbody>\n",
       "</table>\n",
       "</div>"
      ],
      "text/plain": [
       "   sepal_length  sepal_width  petal_length  petal_width species\n",
       "0           5.1          3.5           1.4          0.2  setosa\n",
       "1           4.9          3.0           1.4          0.2  setosa\n",
       "2           4.7          3.2           1.3          0.2  setosa\n",
       "3           4.6          3.1           1.5          0.2  setosa\n",
       "4           5.0          3.6           1.4          0.2  setosa"
      ]
     },
     "execution_count": 285,
     "metadata": {},
     "output_type": "execute_result"
    }
   ],
   "source": [
    "iris_data.head()"
   ]
  },
  {
   "cell_type": "code",
   "execution_count": 286,
   "id": "dc5f0cca-b691-4922-8f18-eaf9bc32fcbc",
   "metadata": {
    "tags": []
   },
   "outputs": [
    {
     "data": {
      "text/plain": [
       "(150, 5)"
      ]
     },
     "execution_count": 286,
     "metadata": {},
     "output_type": "execute_result"
    }
   ],
   "source": [
    "iris_data.shape"
   ]
  },
  {
   "cell_type": "code",
   "execution_count": 287,
   "id": "410b1cb6-b0ff-42ef-abe6-11f9ba25cb79",
   "metadata": {
    "tags": []
   },
   "outputs": [
    {
     "data": {
      "text/plain": [
       "array(['setosa', 'versicolor', 'virginica'], dtype=object)"
      ]
     },
     "execution_count": 287,
     "metadata": {},
     "output_type": "execute_result"
    }
   ],
   "source": [
    "iris_data['species'].unique()"
   ]
  },
  {
   "cell_type": "code",
   "execution_count": 289,
   "id": "865c43f6-acc6-488d-90a1-9b1fc7ea87d0",
   "metadata": {
    "tags": []
   },
   "outputs": [
    {
     "data": {
      "text/plain": [
       "<Axes: xlabel='sepal_length', ylabel='sepal_width'>"
      ]
     },
     "execution_count": 289,
     "metadata": {},
     "output_type": "execute_result"
    },
    {
     "data": {
      "image/png": "[encoded data removed]",
      "text/plain": [
       "<Figure size 640x480 with 1 Axes>"
      ]
     },
     "metadata": {},
     "output_type": "display_data"
    }
   ],
   "source": [
    "sns.scatterplot(x='sepal_length', y='sepal_width', data=iris_data, hue='species')"
   ]
  },
  {
   "cell_type": "code",
   "execution_count": 290,
   "id": "d987336c-0135-4b88-b8c8-5619e9b54a2d",
   "metadata": {
    "tags": []
   },
   "outputs": [],
   "source": [
    "Mapping_species = {\n",
    "    'setosa' : 0,\n",
    "    'versicolor' : 1,\n",
    "    'virginica' : 2\n",
    "}\n",
    "iris_data['species'] = iris_data['species'].map(Mapping_species)"
   ]
  },
  {
   "cell_type": "code",
   "execution_count": 291,
   "id": "65946ffb-43ac-49d5-8918-0086eff14857",
   "metadata": {
    "tags": []
   },
   "outputs": [
    {
     "data": {
      "text/html": [
       "<div>\n",
       "<style scoped>\n",
       "    .dataframe tbody tr th:only-of-type {\n",
       "        vertical-align: middle;\n",
       "    }\n",
       "\n",
       "    .dataframe tbody tr th {\n",
       "        vertical-align: top;\n",
       "    }\n",
       "\n",
       "    .dataframe thead th {\n",
       "        text-align: right;\n",
       "    }\n",
       "</style>\n",
       "<table border=\"1\" class=\"dataframe\">\n",
       "  <thead>\n",
       "    <tr style=\"text-align: right;\">\n",
       "      <th></th>\n",
       "      <th>sepal_length</th>\n",
       "      <th>sepal_width</th>\n",
       "      <th>petal_length</th>\n",
       "      <th>petal_width</th>\n",
       "      <th>species</th>\n",
       "    </tr>\n",
       "  </thead>\n",
       "  <tbody>\n",
       "    <tr>\n",
       "      <th>0</th>\n",
       "      <td>5.1</td>\n",
       "      <td>3.5</td>\n",
       "      <td>1.4</td>\n",
       "      <td>0.2</td>\n",
       "      <td>0</td>\n",
       "    </tr>\n",
       "    <tr>\n",
       "      <th>1</th>\n",
       "      <td>4.9</td>\n",
       "      <td>3.0</td>\n",
       "      <td>1.4</td>\n",
       "      <td>0.2</td>\n",
       "      <td>0</td>\n",
       "    </tr>\n",
       "    <tr>\n",
       "      <th>2</th>\n",
       "      <td>4.7</td>\n",
       "      <td>3.2</td>\n",
       "      <td>1.3</td>\n",
       "      <td>0.2</td>\n",
       "      <td>0</td>\n",
       "    </tr>\n",
       "    <tr>\n",
       "      <th>3</th>\n",
       "      <td>4.6</td>\n",
       "      <td>3.1</td>\n",
       "      <td>1.5</td>\n",
       "      <td>0.2</td>\n",
       "      <td>0</td>\n",
       "    </tr>\n",
       "    <tr>\n",
       "      <th>4</th>\n",
       "      <td>5.0</td>\n",
       "      <td>3.6</td>\n",
       "      <td>1.4</td>\n",
       "      <td>0.2</td>\n",
       "      <td>0</td>\n",
       "    </tr>\n",
       "    <tr>\n",
       "      <th>...</th>\n",
       "      <td>...</td>\n",
       "      <td>...</td>\n",
       "      <td>...</td>\n",
       "      <td>...</td>\n",
       "      <td>...</td>\n",
       "    </tr>\n",
       "    <tr>\n",
       "      <th>145</th>\n",
       "      <td>6.7</td>\n",
       "      <td>3.0</td>\n",
       "      <td>5.2</td>\n",
       "      <td>2.3</td>\n",
       "      <td>2</td>\n",
       "    </tr>\n",
       "    <tr>\n",
       "      <th>146</th>\n",
       "      <td>6.3</td>\n",
       "      <td>2.5</td>\n",
       "      <td>5.0</td>\n",
       "      <td>1.9</td>\n",
       "      <td>2</td>\n",
       "    </tr>\n",
       "    <tr>\n",
       "      <th>147</th>\n",
       "      <td>6.5</td>\n",
       "      <td>3.0</td>\n",
       "      <td>5.2</td>\n",
       "      <td>2.0</td>\n",
       "      <td>2</td>\n",
       "    </tr>\n",
       "    <tr>\n",
       "      <th>148</th>\n",
       "      <td>6.2</td>\n",
       "      <td>3.4</td>\n",
       "      <td>5.4</td>\n",
       "      <td>2.3</td>\n",
       "      <td>2</td>\n",
       "    </tr>\n",
       "    <tr>\n",
       "      <th>149</th>\n",
       "      <td>5.9</td>\n",
       "      <td>3.0</td>\n",
       "      <td>5.1</td>\n",
       "      <td>1.8</td>\n",
       "      <td>2</td>\n",
       "    </tr>\n",
       "  </tbody>\n",
       "</table>\n",
       "<p>150 rows × 5 columns</p>\n",
       "</div>"
      ],
      "text/plain": [
       "     sepal_length  sepal_width  petal_length  petal_width  species\n",
       "0             5.1          3.5           1.4          0.2        0\n",
       "1             4.9          3.0           1.4          0.2        0\n",
       "2             4.7          3.2           1.3          0.2        0\n",
       "3             4.6          3.1           1.5          0.2        0\n",
       "4             5.0          3.6           1.4          0.2        0\n",
       "..            ...          ...           ...          ...      ...\n",
       "145           6.7          3.0           5.2          2.3        2\n",
       "146           6.3          2.5           5.0          1.9        2\n",
       "147           6.5          3.0           5.2          2.0        2\n",
       "148           6.2          3.4           5.4          2.3        2\n",
       "149           5.9          3.0           5.1          1.8        2\n",
       "\n",
       "[150 rows x 5 columns]"
      ]
     },
     "execution_count": 291,
     "metadata": {},
     "output_type": "execute_result"
    }
   ],
   "source": [
    "iris_data"
   ]
  },
  {
   "cell_type": "code",
   "execution_count": 292,
   "id": "628036e4-9deb-4434-aa2c-3ad5434b2da4",
   "metadata": {
    "tags": []
   },
   "outputs": [
    {
     "data": {
      "text/plain": [
       "array([0, 1, 2], dtype=int64)"
      ]
     },
     "execution_count": 292,
     "metadata": {},
     "output_type": "execute_result"
    }
   ],
   "source": [
    "iris_data['species'].unique()"
   ]
  },
  {
   "cell_type": "code",
   "execution_count": null,
   "id": "10698e28-8320-40bd-a2e9-e943fdc2cfff",
   "metadata": {},
   "outputs": [],
   "source": []
  }
 ],
 "metadata": {
  "kernelspec": {
   "display_name": "Python 3 (ipykernel)",
   "language": "python",
   "name": "python3"
  },
  "language_info": {
   "codemirror_mode": {
    "name": "ipython",
    "version": 3
   },
   "file_extension": ".py",
   "mimetype": "text/x-python",
   "name": "python",
   "nbconvert_exporter": "python",
   "pygments_lexer": "ipython3",
   "version": "3.11.5"
  }
 },
 "nbformat": 4,
 "nbformat_minor": 5
}
