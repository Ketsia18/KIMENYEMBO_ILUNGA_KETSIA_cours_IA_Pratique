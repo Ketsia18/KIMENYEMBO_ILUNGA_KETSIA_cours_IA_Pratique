{
 "cells": [
  {
   "cell_type": "code",
   "execution_count": 1,
   "id": "47e7787b-3361-4a1d-9f7b-dc5cbede90bd",
   "metadata": {},
   "outputs": [],
   "source": [
    "age= 22"
   ]
  },
  {
   "cell_type": "code",
   "execution_count": 2,
   "id": "c16ad3a5-aa8f-4b60-9702-c92678c23d71",
   "metadata": {},
   "outputs": [],
   "source": [
    "age2 = 35"
   ]
  },
  {
   "cell_type": "code",
   "execution_count": 3,
   "id": "9db74daa-cd63-4449-9f95-40d7846969b5",
   "metadata": {},
   "outputs": [
    {
     "data": {
      "text/plain": [
       "53"
      ]
     },
     "execution_count": 3,
     "metadata": {},
     "output_type": "execute_result"
    }
   ],
   "source": [
    "18+35"
   ]
  },
  {
   "cell_type": "code",
   "execution_count": 4,
   "id": "8ac8ed88-7a0e-4179-a95c-07d10ba15679",
   "metadata": {},
   "outputs": [
    {
     "data": {
      "text/plain": [
       "57"
      ]
     },
     "execution_count": 4,
     "metadata": {},
     "output_type": "execute_result"
    }
   ],
   "source": [
    "22+35"
   ]
  },
  {
   "cell_type": "code",
   "execution_count": 5,
   "id": "d1d1442e-d28c-49a0-a5e5-c0f479f0664e",
   "metadata": {},
   "outputs": [
    {
     "data": {
      "text/plain": [
       "57"
      ]
     },
     "execution_count": 5,
     "metadata": {},
     "output_type": "execute_result"
    }
   ],
   "source": [
    "age + age2"
   ]
  },
  {
   "cell_type": "code",
   "execution_count": 6,
   "id": "b2df14fd-3742-4d80-8a49-fe437bc4626c",
   "metadata": {},
   "outputs": [
    {
     "data": {
      "text/plain": [
       "12.9"
      ]
     },
     "execution_count": 6,
     "metadata": {},
     "output_type": "execute_result"
    }
   ],
   "source": [
    "12.9 "
   ]
  },
  {
   "cell_type": "code",
   "execution_count": 7,
   "id": "ca793a4b-34ed-4567-8af9-039d8acd6b38",
   "metadata": {},
   "outputs": [],
   "source": [
    "prix = 15.3"
   ]
  },
  {
   "cell_type": "code",
   "execution_count": 8,
   "id": "a087ec5d-21fe-4fb8-a92e-d2fcbddb6aed",
   "metadata": {},
   "outputs": [
    {
     "data": {
      "text/plain": [
       "int"
      ]
     },
     "execution_count": 8,
     "metadata": {},
     "output_type": "execute_result"
    }
   ],
   "source": [
    "type(age)"
   ]
  },
  {
   "cell_type": "code",
   "execution_count": 9,
   "id": "413af99d-fc78-4f47-9721-7050ced6b7f6",
   "metadata": {},
   "outputs": [
    {
     "data": {
      "text/plain": [
       "float"
      ]
     },
     "execution_count": 9,
     "metadata": {},
     "output_type": "execute_result"
    }
   ],
   "source": [
    "type(prix)"
   ]
  },
  {
   "cell_type": "code",
   "execution_count": 10,
   "id": "6dab40a4-b9b5-42c0-b8a7-218792eec797",
   "metadata": {},
   "outputs": [],
   "source": [
    "prix_2 = 2.4"
   ]
  },
  {
   "cell_type": "code",
   "execution_count": 11,
   "id": "0b9137e1-8004-4728-9090-17d91420d9d5",
   "metadata": {},
   "outputs": [
    {
     "data": {
      "text/plain": [
       "17.7"
      ]
     },
     "execution_count": 11,
     "metadata": {},
     "output_type": "execute_result"
    }
   ],
   "source": [
    "prix + prix_2"
   ]
  },
  {
   "cell_type": "code",
   "execution_count": 12,
   "id": "85611125-5c5c-48f4-903a-d81574a94c30",
   "metadata": {},
   "outputs": [],
   "source": [
    "text =\"bonjour\""
   ]
  },
  {
   "cell_type": "code",
   "execution_count": 13,
   "id": "0baf8598-265c-4b8d-9c27-5e29b71f945b",
   "metadata": {},
   "outputs": [
    {
     "data": {
      "text/plain": [
       "'bonjour'"
      ]
     },
     "execution_count": 13,
     "metadata": {},
     "output_type": "execute_result"
    }
   ],
   "source": [
    "text"
   ]
  },
  {
   "cell_type": "code",
   "execution_count": 14,
   "id": "554c021e-120b-4a67-97c5-8b4c5338e8cf",
   "metadata": {},
   "outputs": [],
   "source": [
    "text_2 = \" a tous\"\n",
    "#l'espace entre a et les guillemets c'est pourque lorsau'on fait la concatenation que le bonjour et le a ne soient pas coller"
   ]
  },
  {
   "cell_type": "code",
   "execution_count": 15,
   "id": "8158424c-9de2-4282-a226-4673f5b5940c",
   "metadata": {},
   "outputs": [
    {
     "data": {
      "text/plain": [
       "' a tous'"
      ]
     },
     "execution_count": 15,
     "metadata": {},
     "output_type": "execute_result"
    }
   ],
   "source": [
    "text_2"
   ]
  },
  {
   "cell_type": "code",
   "execution_count": 16,
   "id": "5c527f11-2e67-4fe7-a83c-399844c951c0",
   "metadata": {},
   "outputs": [
    {
     "data": {
      "text/plain": [
       "'bonjour a tous'"
      ]
     },
     "execution_count": 16,
     "metadata": {},
     "output_type": "execute_result"
    }
   ],
   "source": [
    "text + text_2"
   ]
  },
  {
   "cell_type": "code",
   "execution_count": 17,
   "id": "15927bbb-293f-4b8d-9d3c-0263b247073e",
   "metadata": {},
   "outputs": [],
   "source": [
    "text = \" bonsoir\""
   ]
  },
  {
   "cell_type": "code",
   "execution_count": 18,
   "id": "ca4db08a-eabf-479e-b196-5afd2adc403b",
   "metadata": {},
   "outputs": [
    {
     "data": {
      "text/plain": [
       "' bonsoir a tous'"
      ]
     },
     "execution_count": 18,
     "metadata": {},
     "output_type": "execute_result"
    }
   ],
   "source": [
    "text + text_2"
   ]
  },
  {
   "cell_type": "code",
   "execution_count": 19,
   "id": "94a07089-2266-4ccd-baed-a201b25019a8",
   "metadata": {},
   "outputs": [],
   "source": [
    "# True False"
   ]
  },
  {
   "cell_type": "code",
   "execution_count": 20,
   "id": "f20f3d2b-53a0-4d15-8fd2-2836cb1b5c29",
   "metadata": {},
   "outputs": [],
   "source": [
    "est_vrai = True"
   ]
  },
  {
   "cell_type": "code",
   "execution_count": 21,
   "id": "7ef9a07c-2178-4494-ac6a-80023960ab3d",
   "metadata": {},
   "outputs": [
    {
     "data": {
      "text/plain": [
       "True"
      ]
     },
     "execution_count": 21,
     "metadata": {},
     "output_type": "execute_result"
    }
   ],
   "source": [
    "est_vrai"
   ]
  },
  {
   "cell_type": "code",
   "execution_count": 22,
   "id": "5362c449-b4f2-499d-ad61-15ea93818075",
   "metadata": {},
   "outputs": [
    {
     "data": {
      "text/plain": [
       "45"
      ]
     },
     "execution_count": 22,
     "metadata": {},
     "output_type": "execute_result"
    }
   ],
   "source": [
    "36 + 9"
   ]
  },
  {
   "cell_type": "code",
   "execution_count": 23,
   "id": "bafb841d-b27b-4c53-a238-7cb5eb5a4408",
   "metadata": {},
   "outputs": [
    {
     "data": {
      "text/plain": [
       "45"
      ]
     },
     "execution_count": 23,
     "metadata": {},
     "output_type": "execute_result"
    }
   ],
   "source": [
    "_"
   ]
  },
  {
   "cell_type": "code",
   "execution_count": 24,
   "id": "dad335f4-49ad-48ba-8b62-e73650476cd8",
   "metadata": {},
   "outputs": [
    {
     "data": {
      "text/plain": [
       "21"
      ]
     },
     "execution_count": 24,
     "metadata": {},
     "output_type": "execute_result"
    }
   ],
   "source": [
    "14+7"
   ]
  },
  {
   "cell_type": "code",
   "execution_count": 25,
   "id": "130010c7-80c0-4968-9b09-20de593d4e35",
   "metadata": {},
   "outputs": [
    {
     "data": {
      "text/plain": [
       "21"
      ]
     },
     "execution_count": 25,
     "metadata": {},
     "output_type": "execute_result"
    }
   ],
   "source": [
    "_\n",
    "# le _ contient la derniere valeur qui a ete afficher ou utiliser par le termilal"
   ]
  },
  {
   "cell_type": "markdown",
   "id": "e3bff820-64de-4f4b-ba70-76d1c932e145",
   "metadata": {},
   "source": [
    "_ + 5"
   ]
  },
  {
   "cell_type": "code",
   "execution_count": 26,
   "id": "1280d8fd-10d2-4fc1-8621-ee22cc199fe7",
   "metadata": {},
   "outputs": [
    {
     "data": {
      "text/plain": [
       "21"
      ]
     },
     "execution_count": 26,
     "metadata": {},
     "output_type": "execute_result"
    }
   ],
   "source": [
    "_"
   ]
  },
  {
   "cell_type": "code",
   "execution_count": 27,
   "id": "da53ff6f-5677-41ef-a7dd-3bbc827000c1",
   "metadata": {},
   "outputs": [
    {
     "data": {
      "text/plain": [
       "26"
      ]
     },
     "execution_count": 27,
     "metadata": {},
     "output_type": "execute_result"
    }
   ],
   "source": [
    "_+5"
   ]
  },
  {
   "cell_type": "code",
   "execution_count": 28,
   "id": "65899b38-5e15-47f1-b1ad-178ada364a96",
   "metadata": {},
   "outputs": [
    {
     "data": {
      "text/plain": [
       "32"
      ]
     },
     "execution_count": 28,
     "metadata": {},
     "output_type": "execute_result"
    }
   ],
   "source": [
    "_ + 6"
   ]
  },
  {
   "cell_type": "code",
   "execution_count": 29,
   "id": "b239ae38-cf13-418c-8c85-af97a1b4abf8",
   "metadata": {},
   "outputs": [
    {
     "data": {
      "text/plain": [
       "'Bonjour'"
      ]
     },
     "execution_count": 29,
     "metadata": {},
     "output_type": "execute_result"
    }
   ],
   "source": [
    "\"Bonjour\""
   ]
  },
  {
   "cell_type": "code",
   "execution_count": 30,
   "id": "39f5a578-0cc5-4b10-8df6-708003e0ceb9",
   "metadata": {},
   "outputs": [
    {
     "data": {
      "text/plain": [
       "'Bonjour'"
      ]
     },
     "execution_count": 30,
     "metadata": {},
     "output_type": "execute_result"
    }
   ],
   "source": [
    "_"
   ]
  },
  {
   "cell_type": "code",
   "execution_count": 31,
   "id": "894e51c6-29ad-406d-992b-9a2a5a78d231",
   "metadata": {},
   "outputs": [],
   "source": [
    "age3 = 16"
   ]
  },
  {
   "cell_type": "code",
   "execution_count": 32,
   "id": "96e59a35-5ab8-4062-8271-66b449ba18e5",
   "metadata": {},
   "outputs": [
    {
     "data": {
      "text/plain": [
       "'Bonjour'"
      ]
     },
     "execution_count": 32,
     "metadata": {},
     "output_type": "execute_result"
    }
   ],
   "source": [
    "_"
   ]
  },
  {
   "cell_type": "code",
   "execution_count": 33,
   "id": "78eb8120-ddfb-42b4-a2f3-ee6e3422c5d8",
   "metadata": {},
   "outputs": [],
   "source": [
    "# le resulat donne bonjour parce que au niveau de age3 python n' a rien retourné"
   ]
  },
  {
   "cell_type": "code",
   "execution_count": 34,
   "id": "910674d1-5834-4911-a09f-f52cf2e499ca",
   "metadata": {},
   "outputs": [],
   "source": [
    "# OPERATEUR MATHEMATIQUE"
   ]
  },
  {
   "cell_type": "code",
   "execution_count": 35,
   "id": "f0722fb5-e892-43b4-a8b2-b2fb607fc204",
   "metadata": {},
   "outputs": [
    {
     "name": "stdout",
     "output_type": "stream",
     "text": [
      "17.3\n"
     ]
    }
   ],
   "source": [
    "total = 8 +4 +5.3\n",
    "print(total)"
   ]
  },
  {
   "cell_type": "code",
   "execution_count": 36,
   "id": "9cdf5f27-69b3-4e4a-8d81-91197ad6af57",
   "metadata": {},
   "outputs": [
    {
     "data": {
      "text/plain": [
       "float"
      ]
     },
     "execution_count": 36,
     "metadata": {},
     "output_type": "execute_result"
    }
   ],
   "source": [
    "type(total)"
   ]
  },
  {
   "cell_type": "code",
   "execution_count": 37,
   "id": "3a00e923-8f99-4de8-be0b-598bc0e1fe09",
   "metadata": {},
   "outputs": [],
   "source": [
    "var = 10/2"
   ]
  },
  {
   "cell_type": "code",
   "execution_count": 38,
   "id": "6ab654bc-8f19-4a0f-abff-fae2b08b1cac",
   "metadata": {},
   "outputs": [
    {
     "data": {
      "text/plain": [
       "float"
      ]
     },
     "execution_count": 38,
     "metadata": {},
     "output_type": "execute_result"
    }
   ],
   "source": [
    "type(var)\n",
    "# dividion entre 2 entiers dans un nombre avec virgule"
   ]
  },
  {
   "cell_type": "code",
   "execution_count": 39,
   "id": "c18a4f70-4135-4f87-ab25-df6e3c74f50e",
   "metadata": {},
   "outputs": [
    {
     "name": "stdout",
     "output_type": "stream",
     "text": [
      "5.0\n"
     ]
    }
   ],
   "source": [
    "print(var)"
   ]
  },
  {
   "cell_type": "code",
   "execution_count": 40,
   "id": "74f09ac6-8174-41bc-81ec-243505dd2fe0",
   "metadata": {},
   "outputs": [],
   "source": [
    "#floor division le rsultat est arrandi au nomre entier inferieur on utilise les //\n",
    "var = 10.2//2"
   ]
  },
  {
   "cell_type": "code",
   "execution_count": 41,
   "id": "c9d136c6-4d63-49fb-bea2-ff60de4abc8f",
   "metadata": {},
   "outputs": [
    {
     "name": "stdout",
     "output_type": "stream",
     "text": [
      "5.0\n"
     ]
    }
   ],
   "source": [
    "print(var)"
   ]
  },
  {
   "cell_type": "code",
   "execution_count": 42,
   "id": "3cd1e501-a393-42d3-8c68-78d2f4ab06dc",
   "metadata": {},
   "outputs": [
    {
     "data": {
      "text/plain": [
       "0"
      ]
     },
     "execution_count": 42,
     "metadata": {},
     "output_type": "execute_result"
    }
   ],
   "source": [
    "#modulo le reste de division d'un nombre %\n",
    "\n",
    "10 % 2"
   ]
  },
  {
   "cell_type": "code",
   "execution_count": 43,
   "id": "72c75c9a-8e91-4e55-8141-2fff82db358c",
   "metadata": {},
   "outputs": [
    {
     "data": {
      "text/plain": [
       "1"
      ]
     },
     "execution_count": 43,
     "metadata": {},
     "output_type": "execute_result"
    }
   ],
   "source": [
    "11 % 2"
   ]
  },
  {
   "cell_type": "code",
   "execution_count": 44,
   "id": "f0e825ae-5ff2-4a78-9787-edf5834e9ebc",
   "metadata": {},
   "outputs": [
    {
     "data": {
      "text/plain": [
       "1"
      ]
     },
     "execution_count": 44,
     "metadata": {},
     "output_type": "execute_result"
    }
   ],
   "source": [
    "19 % 5 % 3\n",
    "# 19%5 reste 4  le resultat 4 % 3  ça donne 1  on va de gauche vers la droite "
   ]
  },
  {
   "cell_type": "code",
   "execution_count": 45,
   "id": "7f71fc00-e1cb-4cc1-9a2f-acc21555e974",
   "metadata": {},
   "outputs": [
    {
     "data": {
      "text/plain": [
       "17"
      ]
     },
     "execution_count": 45,
     "metadata": {},
     "output_type": "execute_result"
    }
   ],
   "source": [
    "2 + 5* 3"
   ]
  },
  {
   "cell_type": "code",
   "execution_count": 46,
   "id": "fdfaccc8-b98a-457f-aff1-badafb76d7a7",
   "metadata": {},
   "outputs": [
    {
     "data": {
      "text/plain": [
       "0"
      ]
     },
     "execution_count": 46,
     "metadata": {},
     "output_type": "execute_result"
    }
   ],
   "source": [
    "4 * 5 % 4\n",
    "# d'abord 4*5 puis apres les reste modulo de 4"
   ]
  },
  {
   "cell_type": "code",
   "execution_count": 47,
   "id": "5b47002c-173b-40ca-b373-6e438300cbcb",
   "metadata": {},
   "outputs": [],
   "source": [
    "# definition des chaines de caracteres\n",
    "# on peut utiliser les '' simple ou les \"\" double \n",
    "# et lorsqu'on veut ecrire sur plusieurs lignes on les mets trois fois ex: '''bonjour mrs. Je vais au poste de police''' , \"\"\"bonjour mrs. Je vais au poste de police\"\"\"\n"
   ]
  },
  {
   "cell_type": "code",
   "execution_count": 53,
   "id": "e7f2318b-418c-4869-b9c8-078cd61afe06",
   "metadata": {},
   "outputs": [],
   "source": [
    "# comment recuperer des donnees"
   ]
  },
  {
   "cell_type": "code",
   "execution_count": 48,
   "id": "099b6fb9-bcef-4863-8147-f12dd0b2d8c3",
   "metadata": {},
   "outputs": [
    {
     "name": "stdin",
     "output_type": "stream",
     "text": [
      "quel est votre prenom Ketsia\n"
     ]
    }
   ],
   "source": [
    "prenom= input (\"quel est votre prenom\")"
   ]
  },
  {
   "cell_type": "code",
   "execution_count": 49,
   "id": "e8350728-aee0-4675-a928-bdc74ece17e9",
   "metadata": {},
   "outputs": [
    {
     "name": "stdout",
     "output_type": "stream",
     "text": [
      "Ketsia\n"
     ]
    }
   ],
   "source": [
    "print(prenom)"
   ]
  },
  {
   "cell_type": "code",
   "execution_count": 51,
   "id": "417173ad-9909-4bf9-a953-2a77d974843b",
   "metadata": {},
   "outputs": [
    {
     "name": "stdin",
     "output_type": "stream",
     "text": [
      "quel est votre preonom Ketsia\n",
      "quel est votre nom KIMENYEMBO\n"
     ]
    }
   ],
   "source": [
    "prenom = input(\"quel est votre preonom\")\n",
    "nom = input(\"quel est votre nom\")"
   ]
  },
  {
   "cell_type": "code",
   "execution_count": 52,
   "id": "6ea09d6a-2ae2-4cb9-b637-949cee557ff1",
   "metadata": {},
   "outputs": [
    {
     "name": "stdout",
     "output_type": "stream",
     "text": [
      "Bonjour KIMENYEMBO Ketsia\n"
     ]
    }
   ],
   "source": [
    "print(\"Bonjour\", nom, prenom)"
   ]
  },
  {
   "cell_type": "code",
   "execution_count": 54,
   "id": "4a9efc5b-74ff-4b9a-b74b-542fff6fe964",
   "metadata": {},
   "outputs": [
    {
     "name": "stdout",
     "output_type": "stream",
     "text": [
      "<class 'str'>\n"
     ]
    }
   ],
   "source": [
    "print(type(nom))"
   ]
  },
  {
   "cell_type": "code",
   "execution_count": 57,
   "id": "dc0ec3f3-c947-4857-8567-0b8a8ad8d374",
   "metadata": {},
   "outputs": [
    {
     "name": "stdin",
     "output_type": "stream",
     "text": [
      "quel est votre age 32\n"
     ]
    }
   ],
   "source": [
    "age = input(\"quel est votre age\")"
   ]
  },
  {
   "cell_type": "code",
   "execution_count": 59,
   "id": "2f6e93cd-f43c-48ae-99a6-d438b2ffcf10",
   "metadata": {},
   "outputs": [
    {
     "name": "stdout",
     "output_type": "stream",
     "text": [
      "Bonjour Ketsia KIMENYEMBO\n",
      "j'ai 32\n"
     ]
    }
   ],
   "source": [
    "print(\"Bonjour\",prenom,nom)\n",
    "print(\"j'ai\", age)"
   ]
  },
  {
   "cell_type": "code",
   "execution_count": 60,
   "id": "714c21a4-e5f6-4e2c-952c-0e3a16b2f976",
   "metadata": {},
   "outputs": [],
   "source": [
    "#l'instruction if\n"
   ]
  },
  {
   "cell_type": "code",
   "execution_count": 62,
   "id": "ac6edd2b-7c17-4f93-ad2e-4069f65eb89a",
   "metadata": {},
   "outputs": [
    {
     "name": "stdout",
     "output_type": "stream",
     "text": [
      "Fin\n"
     ]
    }
   ],
   "source": [
    "if False:\n",
    "    print(\"Code est executé.\")\n",
    "print(\"Fin\")"
   ]
  },
  {
   "cell_type": "code",
   "execution_count": 63,
   "id": "482161e1-fecf-4b3b-8488-fb16cac4b655",
   "metadata": {},
   "outputs": [],
   "source": [
    "if False:\n",
    "    print(\"Code est executé.\")\n",
    "    print(\"Fin\")"
   ]
  },
  {
   "cell_type": "code",
   "execution_count": 64,
   "id": "0a8a3a9f-3566-48f3-934d-de8ae2ad19e6",
   "metadata": {},
   "outputs": [],
   "source": [
    "  prix = 50"
   ]
  },
  {
   "cell_type": "code",
   "execution_count": 65,
   "id": "8c63063e-ce97-4851-9b23-6cf7b8739afb",
   "metadata": {},
   "outputs": [
    {
     "name": "stdout",
     "output_type": "stream",
     "text": [
      "False\n"
     ]
    }
   ],
   "source": [
    "print(prix< 20)"
   ]
  },
  {
   "cell_type": "code",
   "execution_count": 66,
   "id": "89d2ea8a-e597-45a1-92ca-764c233201e1",
   "metadata": {},
   "outputs": [
    {
     "name": "stdout",
     "output_type": "stream",
     "text": [
      "True\n"
     ]
    }
   ],
   "source": [
    "print(prix >=20)"
   ]
  },
  {
   "cell_type": "code",
   "execution_count": 67,
   "id": "0d92e086-0bc9-4b95-92c3-a6d10c338634",
   "metadata": {},
   "outputs": [
    {
     "name": "stdout",
     "output_type": "stream",
     "text": [
      "True\n"
     ]
    }
   ],
   "source": [
    "print(prix != 20)"
   ]
  },
  {
   "cell_type": "code",
   "execution_count": 68,
   "id": "a850d8cc-6031-472c-8e73-1dcf71114f63",
   "metadata": {},
   "outputs": [
    {
     "name": "stdout",
     "output_type": "stream",
     "text": [
      "False\n"
     ]
    }
   ],
   "source": [
    "nom = \"romaric\"\n",
    "print(nom == \"jean\")"
   ]
  },
  {
   "cell_type": "code",
   "execution_count": 72,
   "id": "c17012d3-e7b7-442f-9496-61be18860006",
   "metadata": {},
   "outputs": [
    {
     "name": "stdout",
     "output_type": "stream",
     "text": [
      "Gant pas cher, bonne affaire\n",
      "analyse terminée!\n"
     ]
    }
   ],
   "source": [
    "prix_gant = 10\n",
    "if prix_gant <= 20:\n",
    "    print(\"Gant pas cher, bonne affaire\")\n",
    "print(\"analyse terminée!\")"
   ]
  },
  {
   "cell_type": "code",
   "execution_count": 73,
   "id": "43e08292-5e63-457c-be62-b59adea86190",
   "metadata": {},
   "outputs": [
    {
     "name": "stdout",
     "output_type": "stream",
     "text": [
      "analyse terminée!\n"
     ]
    }
   ],
   "source": [
    "prix_gant = 40\n",
    "if prix_gant <= 20:\n",
    "    print(\"Gant pas cher, bonne affaire\")\n",
    "print(\"analyse terminée!\")"
   ]
  },
  {
   "cell_type": "code",
   "execution_count": 71,
   "id": "cca25e57-8de6-468a-aa81-4274923ffda2",
   "metadata": {},
   "outputs": [
    {
     "data": {
      "text/plain": [
       "False"
      ]
     },
     "execution_count": 71,
     "metadata": {},
     "output_type": "execute_result"
    }
   ],
   "source": [
    " prix_gant <= 20"
   ]
  },
  {
   "cell_type": "code",
   "execution_count": 83,
   "id": "becfe268-1cf9-464a-b275-b41803d2adb0",
   "metadata": {},
   "outputs": [
    {
     "name": "stdout",
     "output_type": "stream",
     "text": [
      "Gant trop cher, mauvais affaire\n",
      "je n'achete pas\n",
      "analyse terminée!\n"
     ]
    }
   ],
   "source": [
    "prix_gant = 60\n",
    "if prix_gant <= 20:\n",
    "    print(\"Gant pas cher, bonne affaire\")\n",
    "    \n",
    "if prix_gant > 20:\n",
    "    print(\"Gant trop cher, mauvais affaire\")\n",
    "    if prix_gant >= 50:\n",
    "         print(\"je n'achete pas\")\n",
    "      \n",
    "\n",
    "\n",
    "print(\"analyse terminée!\")"
   ]
  },
  {
   "cell_type": "code",
   "execution_count": 84,
   "id": "db3485bb-cb9b-4697-a82d-72733300cb4f",
   "metadata": {},
   "outputs": [],
   "source": [
    "#instruction if else"
   ]
  },
  {
   "cell_type": "code",
   "execution_count": 88,
   "id": "bf3d68fd-a595-415f-8671-2cdc7d3e8efd",
   "metadata": {},
   "outputs": [
    {
     "name": "stdout",
     "output_type": "stream",
     "text": [
      "condition valide\n",
      "Fin!\n"
     ]
    }
   ],
   "source": [
    "if True:\n",
    "    print(\"condition valide\")\n",
    "else: \n",
    "    print(\"condition non validé\")\n",
    "\n",
    "print(\"Fin!\")\n"
   ]
  },
  {
   "cell_type": "code",
   "execution_count": 92,
   "id": "59bcf3cc-121a-4452-b33c-806e4aed8353",
   "metadata": {},
   "outputs": [
    {
     "name": "stdout",
     "output_type": "stream",
     "text": [
      "mauvaise affaire!\n",
      "Je n'achete pas le produit\n",
      "Analyse terminé!\n"
     ]
    }
   ],
   "source": [
    "prix = 50\n",
    "if prix <= 20:\n",
    "    print(\"Bon affaire\")\n",
    "else:\n",
    "    print(\"mauvaise affaire!\")\n",
    "    if prix > 40:\n",
    "        print(\"Je n'achete pas le produit\")\n",
    "\n",
    "print(\"Analyse terminé!\")"
   ]
  },
  {
   "cell_type": "code",
   "execution_count": 93,
   "id": "59c19e53-5606-4497-932d-f79b0142ef8d",
   "metadata": {},
   "outputs": [
    {
     "name": "stdout",
     "output_type": "stream",
     "text": [
      "Bon affaire\n",
      "Analyse terminé!\n"
     ]
    }
   ],
   "source": [
    "prix = 10\n",
    "if prix <= 20:\n",
    "    print(\"Bon affaire\")\n",
    "else:\n",
    "    print(\"mauvaise affaire!\")\n",
    "    if prix > 40:\n",
    "        print(\"Je n'achete pas le produit\")\n",
    "\n",
    "print(\"Analyse terminé!\")"
   ]
  },
  {
   "cell_type": "code",
   "execution_count": 94,
   "id": "d0c49bbd-30dc-4cfb-8279-982c219c6f05",
   "metadata": {},
   "outputs": [
    {
     "name": "stdout",
     "output_type": "stream",
     "text": [
      "mauvaise affaire!\n",
      "Analyse terminé!\n"
     ]
    }
   ],
   "source": [
    "prix = 40\n",
    "if prix <= 20:\n",
    "    print(\"Bon affaire\")\n",
    "else:\n",
    "    print(\"mauvaise affaire!\")\n",
    "    if prix > 40:\n",
    "        print(\"Je n'achete pas le produit\")\n",
    "\n",
    "print(\"Analyse terminé!\")"
   ]
  },
  {
   "cell_type": "code",
   "execution_count": 97,
   "id": "4801bfa0-62ea-428c-8b81-c90dc72ae6f3",
   "metadata": {},
   "outputs": [
    {
     "name": "stdout",
     "output_type": "stream",
     "text": [
      "je reste  a la maison , regarder la tele\n"
     ]
    }
   ],
   "source": [
    "temps =\"ouragan\" #beau ,nuageux, pluvieux, orage\n",
    "if temps  == \"beau\":\n",
    "    print(\"je vais a la plage.\")\n",
    "else:\n",
    "    print(\"je reste  a la maison , regarder la tele\")\n"
   ]
  },
  {
   "cell_type": "code",
   "execution_count": 99,
   "id": "79b49b78-74ea-4362-941a-9751115f3f54",
   "metadata": {},
   "outputs": [],
   "source": [
    "# la boucle While"
   ]
  },
  {
   "cell_type": "code",
   "execution_count": 100,
   "id": "5e6d4c75-bd3b-43c2-9f86-59012faf3d1c",
   "metadata": {},
   "outputs": [
    {
     "name": "stdout",
     "output_type": "stream",
     "text": [
      "0 ça fonctionne\n",
      "1 ça fonctionne\n",
      "2 ça fonctionne\n",
      "3 ça fonctionne\n",
      "4 ça fonctionne\n"
     ]
    }
   ],
   "source": [
    "i = 0\n",
    "while i < 5:\n",
    "    print(i, \"ça fonctionne\")\n",
    "    i = i + 1 # i +=1 ça veut dire la meme chose\n",
    "    \n",
    "    "
   ]
  },
  {
   "cell_type": "code",
   "execution_count": 107,
   "id": "8bb455d3-284a-49a1-badc-170d1b5e8752",
   "metadata": {},
   "outputs": [
    {
     "name": "stdout",
     "output_type": "stream",
     "text": [
      "0 la vie est belle.\n",
      "2 la vie est belle.\n",
      "4 la vie est belle.\n",
      "6 la vie est belle.\n",
      "8 la vie est belle.\n",
      "fin\n"
     ]
    }
   ],
   "source": [
    "i = 0\n",
    "while i < 10:\n",
    "     if  i % 2 == 0:\n",
    "          print(i, \"la vie est belle.\")\n",
    "     i += 1\n",
    "print(\"fin\")"
   ]
  },
  {
   "cell_type": "code",
   "execution_count": 108,
   "id": "b5783d87-e1b7-4580-b8e1-a7c62efb333f",
   "metadata": {},
   "outputs": [],
   "source": [
    "# les foctions"
   ]
  },
  {
   "cell_type": "code",
   "execution_count": null,
   "id": "0accae6f-4f42-4128-bf4c-ef458d817801",
   "metadata": {},
   "outputs": [],
   "source": []
  }
 ],
 "metadata": {
  "kernelspec": {
   "display_name": "Python 3 (ipykernel)",
   "language": "python",
   "name": "python3"
  },
  "language_info": {
   "codemirror_mode": {
    "name": "ipython",
    "version": 3
   },
   "file_extension": ".py",
   "mimetype": "text/x-python",
   "name": "python",
   "nbconvert_exporter": "python",
   "pygments_lexer": "ipython3",
   "version": "3.11.11"
  }
 },
 "nbformat": 4,
 "nbformat_minor": 5
}
