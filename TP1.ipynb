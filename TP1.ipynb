{
 "cells": [
  {
   "cell_type": "markdown",
   "id": "373f0251-ed9c-43fa-81e6-e8cd254f669c",
   "metadata": {
    "tags": []
   },
   "source": [
    "# 1.Importation des Librairies"
   ]
  },
  {
   "cell_type": "code",
   "execution_count": 46,
   "id": "45ceec1b-042e-4151-8728-5c855be0f83f",
   "metadata": {
    "tags": []
   },
   "outputs": [],
   "source": [
    "import numpy as np\n",
    "import pandas as pd"
   ]
  },
  {
   "cell_type": "code",
   "execution_count": 2,
   "id": "e6c77e58-f907-4a57-96a1-c37db72de58b",
   "metadata": {
    "tags": []
   },
   "outputs": [],
   "source": [
    "data = pd.read_csv('Data/USA_Housing.csv')"
   ]
  },
  {
   "cell_type": "code",
   "execution_count": 3,
   "id": "f68a86fe-909f-48b2-8413-815534648d5d",
   "metadata": {
    "tags": []
   },
   "outputs": [
    {
     "data": {
      "text/html": [
       "<div>\n",
       "<style scoped>\n",
       "    .dataframe tbody tr th:only-of-type {\n",
       "        vertical-align: middle;\n",
       "    }\n",
       "\n",
       "    .dataframe tbody tr th {\n",
       "        vertical-align: top;\n",
       "    }\n",
       "\n",
       "    .dataframe thead th {\n",
       "        text-align: right;\n",
       "    }\n",
       "</style>\n",
       "<table border=\"1\" class=\"dataframe\">\n",
       "  <thead>\n",
       "    <tr style=\"text-align: right;\">\n",
       "      <th></th>\n",
       "      <th>Avg. Area Income</th>\n",
       "      <th>Avg. Area House Age</th>\n",
       "      <th>Avg. Area Number of Rooms</th>\n",
       "      <th>Avg. Area Number of Bedrooms</th>\n",
       "      <th>Area Population</th>\n",
       "      <th>Price</th>\n",
       "      <th>Address</th>\n",
       "    </tr>\n",
       "  </thead>\n",
       "  <tbody>\n",
       "    <tr>\n",
       "      <th>0</th>\n",
       "      <td>79545.458574</td>\n",
       "      <td>5.682861</td>\n",
       "      <td>7.009188</td>\n",
       "      <td>4.09</td>\n",
       "      <td>23086.800503</td>\n",
       "      <td>1.059034e+06</td>\n",
       "      <td>208 Michael Ferry Apt. 674\\nLaurabury, NE 3701...</td>\n",
       "    </tr>\n",
       "    <tr>\n",
       "      <th>1</th>\n",
       "      <td>79248.642455</td>\n",
       "      <td>6.002900</td>\n",
       "      <td>6.730821</td>\n",
       "      <td>3.09</td>\n",
       "      <td>40173.072174</td>\n",
       "      <td>1.505891e+06</td>\n",
       "      <td>188 Johnson Views Suite 079\\nLake Kathleen, CA...</td>\n",
       "    </tr>\n",
       "    <tr>\n",
       "      <th>2</th>\n",
       "      <td>61287.067179</td>\n",
       "      <td>5.865890</td>\n",
       "      <td>8.512727</td>\n",
       "      <td>5.13</td>\n",
       "      <td>36882.159400</td>\n",
       "      <td>1.058988e+06</td>\n",
       "      <td>9127 Elizabeth Stravenue\\nDanieltown, WI 06482...</td>\n",
       "    </tr>\n",
       "    <tr>\n",
       "      <th>3</th>\n",
       "      <td>63345.240046</td>\n",
       "      <td>7.188236</td>\n",
       "      <td>5.586729</td>\n",
       "      <td>3.26</td>\n",
       "      <td>34310.242831</td>\n",
       "      <td>1.260617e+06</td>\n",
       "      <td>USS Barnett\\nFPO AP 44820</td>\n",
       "    </tr>\n",
       "    <tr>\n",
       "      <th>4</th>\n",
       "      <td>59982.197226</td>\n",
       "      <td>5.040555</td>\n",
       "      <td>7.839388</td>\n",
       "      <td>4.23</td>\n",
       "      <td>26354.109472</td>\n",
       "      <td>6.309435e+05</td>\n",
       "      <td>USNS Raymond\\nFPO AE 09386</td>\n",
       "    </tr>\n",
       "  </tbody>\n",
       "</table>\n",
       "</div>"
      ],
      "text/plain": [
       "   Avg. Area Income  Avg. Area House Age  Avg. Area Number of Rooms  \\\n",
       "0      79545.458574             5.682861                   7.009188   \n",
       "1      79248.642455             6.002900                   6.730821   \n",
       "2      61287.067179             5.865890                   8.512727   \n",
       "3      63345.240046             7.188236                   5.586729   \n",
       "4      59982.197226             5.040555                   7.839388   \n",
       "\n",
       "   Avg. Area Number of Bedrooms  Area Population         Price  \\\n",
       "0                          4.09     23086.800503  1.059034e+06   \n",
       "1                          3.09     40173.072174  1.505891e+06   \n",
       "2                          5.13     36882.159400  1.058988e+06   \n",
       "3                          3.26     34310.242831  1.260617e+06   \n",
       "4                          4.23     26354.109472  6.309435e+05   \n",
       "\n",
       "                                             Address  \n",
       "0  208 Michael Ferry Apt. 674\\nLaurabury, NE 3701...  \n",
       "1  188 Johnson Views Suite 079\\nLake Kathleen, CA...  \n",
       "2  9127 Elizabeth Stravenue\\nDanieltown, WI 06482...  \n",
       "3                          USS Barnett\\nFPO AP 44820  \n",
       "4                         USNS Raymond\\nFPO AE 09386  "
      ]
     },
     "execution_count": 3,
     "metadata": {},
     "output_type": "execute_result"
    }
   ],
   "source": [
    "data.head()"
   ]
  },
  {
   "cell_type": "code",
   "execution_count": 15,
   "id": "405c68c1-e978-4657-9603-3b81033882ac",
   "metadata": {
    "tags": []
   },
   "outputs": [
    {
     "data": {
      "text/plain": [
       "<bound method DataFrame.info of       Avg. Area Income  Avg. Area House Age  Avg. Area Number of Rooms  \\\n",
       "0         79545.458574             5.682861                   7.009188   \n",
       "1         79248.642455             6.002900                   6.730821   \n",
       "2         61287.067179             5.865890                   8.512727   \n",
       "3         63345.240046             7.188236                   5.586729   \n",
       "4         59982.197226             5.040555                   7.839388   \n",
       "...                ...                  ...                        ...   \n",
       "4995      60567.944140             7.830362                   6.137356   \n",
       "4996      78491.275435             6.999135                   6.576763   \n",
       "4997      63390.686886             7.250591                   4.805081   \n",
       "4998      68001.331235             5.534388                   7.130144   \n",
       "4999      65510.581804             5.992305                   6.792336   \n",
       "\n",
       "      Avg. Area Number of Bedrooms  Area Population         Price  \\\n",
       "0                             4.09     23086.800503  1.059034e+06   \n",
       "1                             3.09     40173.072174  1.505891e+06   \n",
       "2                             5.13     36882.159400  1.058988e+06   \n",
       "3                             3.26     34310.242831  1.260617e+06   \n",
       "4                             4.23     26354.109472  6.309435e+05   \n",
       "...                            ...              ...           ...   \n",
       "4995                          3.46     22837.361035  1.060194e+06   \n",
       "4996                          4.02     25616.115489  1.482618e+06   \n",
       "4997                          2.13     33266.145490  1.030730e+06   \n",
       "4998                          5.44     42625.620156  1.198657e+06   \n",
       "4999                          4.07     46501.283803  1.298950e+06   \n",
       "\n",
       "                                                Address  \n",
       "0     208 Michael Ferry Apt. 674\\nLaurabury, NE 3701...  \n",
       "1     188 Johnson Views Suite 079\\nLake Kathleen, CA...  \n",
       "2     9127 Elizabeth Stravenue\\nDanieltown, WI 06482...  \n",
       "3                             USS Barnett\\nFPO AP 44820  \n",
       "4                            USNS Raymond\\nFPO AE 09386  \n",
       "...                                                 ...  \n",
       "4995                   USNS Williams\\nFPO AP 30153-7653  \n",
       "4996              PSC 9258, Box 8489\\nAPO AA 42991-3352  \n",
       "4997  4215 Tracy Garden Suite 076\\nJoshualand, VA 01...  \n",
       "4998                          USS Wallace\\nFPO AE 73316  \n",
       "4999  37778 George Ridges Apt. 509\\nEast Holly, NV 2...  \n",
       "\n",
       "[5000 rows x 7 columns]>"
      ]
     },
     "execution_count": 15,
     "metadata": {},
     "output_type": "execute_result"
    }
   ],
   "source": [
    "data.info"
   ]
  },
  {
   "cell_type": "code",
   "execution_count": 47,
   "id": "ec10d6c0-1854-43c3-b314-56caaec401af",
   "metadata": {
    "tags": []
   },
   "outputs": [],
   "source": [
    "#Filtrage des donnees\n",
    "Filtered_data = data[['Avg. Area Income', 'Price']]"
   ]
  },
  {
   "cell_type": "code",
   "execution_count": 8,
   "id": "8e043b8b-e7d4-48ae-9fb4-2b6ded2755ff",
   "metadata": {
    "tags": []
   },
   "outputs": [],
   "source": [
    "X = Filtered_data.iloc[: , : -1].values\n",
    "Y = Filtered_data.iloc[: , -1].values"
   ]
  },
  {
   "cell_type": "code",
   "execution_count": 9,
   "id": "f031346c-3cdb-48ad-83b5-b70978af3636",
   "metadata": {
    "tags": []
   },
   "outputs": [
    {
     "data": {
      "text/plain": [
       "array([[79545.45857432],\n",
       "       [79248.64245483],\n",
       "       [61287.06717866],\n",
       "       ...,\n",
       "       [63390.6868855 ],\n",
       "       [68001.33123509],\n",
       "       [65510.58180367]])"
      ]
     },
     "execution_count": 9,
     "metadata": {},
     "output_type": "execute_result"
    }
   ],
   "source": [
    "X"
   ]
  },
  {
   "cell_type": "code",
   "execution_count": 10,
   "id": "1b3dc3de-a37d-461b-bf43-21745604dc93",
   "metadata": {
    "tags": []
   },
   "outputs": [
    {
     "data": {
      "text/plain": [
       "array([1059033.55787012, 1505890.91484695, 1058987.98787608, ...,\n",
       "       1030729.58315229, 1198656.87240769, 1298950.48026696])"
      ]
     },
     "execution_count": 10,
     "metadata": {},
     "output_type": "execute_result"
    }
   ],
   "source": [
    "Y"
   ]
  },
  {
   "cell_type": "code",
   "execution_count": 12,
   "id": "0d644734-d6cf-4e3e-a08f-337a09386daa",
   "metadata": {
    "tags": []
   },
   "outputs": [
    {
     "data": {
      "text/plain": [
       "2469065.5941747027"
      ]
     },
     "execution_count": 12,
     "metadata": {},
     "output_type": "execute_result"
    }
   ],
   "source": [
    "data['Price'].max()"
   ]
  },
  {
   "cell_type": "code",
   "execution_count": 13,
   "id": "1d2d55b5-549d-4be2-86ab-2fcbe539f400",
   "metadata": {
    "tags": []
   },
   "outputs": [
    {
     "data": {
      "text/plain": [
       "15938.657923287848"
      ]
     },
     "execution_count": 13,
     "metadata": {},
     "output_type": "execute_result"
    }
   ],
   "source": [
    "data['Price'].min()"
   ]
  },
  {
   "cell_type": "code",
   "execution_count": 16,
   "id": "266ee091-96e2-4385-977f-3f546f3b7730",
   "metadata": {
    "tags": []
   },
   "outputs": [
    {
     "name": "stdout",
     "output_type": "stream",
     "text": [
      "Max Price : 2469065.5941747027\n"
     ]
    }
   ],
   "source": [
    "print(\"Max Price :\",data['Price'].max())"
   ]
  },
  {
   "cell_type": "code",
   "execution_count": 17,
   "id": "4403b072-a902-4832-94d2-37b95efb5965",
   "metadata": {
    "tags": []
   },
   "outputs": [
    {
     "name": "stdout",
     "output_type": "stream",
     "text": [
      "Min Price : 2469065.5941747027\n"
     ]
    }
   ],
   "source": [
    "print(\"Min Price :\",data['Price'].max())"
   ]
  },
  {
   "cell_type": "code",
   "execution_count": null,
   "id": "5317efcc-6436-4b99-8725-024aced4990c",
   "metadata": {},
   "outputs": [],
   "source": []
  },
  {
   "cell_type": "code",
   "execution_count": 18,
   "id": "a88bf44c-50f7-4c35-bac0-bb6d7aac0572",
   "metadata": {
    "tags": []
   },
   "outputs": [],
   "source": [
    "from sklearn.model_selection import train_test_split"
   ]
  },
  {
   "cell_type": "code",
   "execution_count": 19,
   "id": "41c31090-93e8-4e92-bc84-6c014b66b23e",
   "metadata": {
    "tags": []
   },
   "outputs": [
    {
     "data": {
      "text/plain": [
       "[array([[61436.91890629],\n",
       "        [70950.42998672],\n",
       "        [76388.55195821],\n",
       "        ...,\n",
       "        [80807.73283844],\n",
       "        [94241.82332287],\n",
       "        [51796.13357753]]),\n",
       " array([[75391.68175788],\n",
       "        [85852.14918103],\n",
       "        [75537.79451   ],\n",
       "        ...,\n",
       "        [61875.0759734 ],\n",
       "        [78318.81449084],\n",
       "        [75908.67049714]]),\n",
       " array([ 868713.43669433, 1538039.5989439 , 1114729.72452353, ...,\n",
       "        1304284.2260061 , 2180065.59773864,  891468.21327911]),\n",
       " array([1435769.76883739, 1668448.09805727, 1762214.67958189, ...,\n",
       "         975005.77366035, 1393995.96182827, 1036277.0624633 ])]"
      ]
     },
     "execution_count": 19,
     "metadata": {},
     "output_type": "execute_result"
    }
   ],
   "source": [
    "train_test_split(X, Y, test_size = 0.25, random_state= 40)"
   ]
  },
  {
   "cell_type": "code",
   "execution_count": 20,
   "id": "b193ba0f-8a24-4304-8ceb-d746c80e75bf",
   "metadata": {
    "tags": []
   },
   "outputs": [],
   "source": [
    "X_train, X_test, y_train, y_test = train_test_split(X, Y, test_size = 0.25, random_state= 40)"
   ]
  },
  {
   "cell_type": "code",
   "execution_count": 21,
   "id": "80a1d339-0185-4f6d-85dc-00d50add1f18",
   "metadata": {
    "tags": []
   },
   "outputs": [
    {
     "name": "stdout",
     "output_type": "stream",
     "text": [
      "X-train Shape: (3750, 1)\n",
      "X-test Shape: (1250, 1)\n",
      "y-train Shape: (3750,)\n",
      "y-test Shape: (1250,)\n"
     ]
    }
   ],
   "source": [
    "print(\"X-train Shape:\",X_train.shape)\n",
    "print(\"X-test Shape:\",X_test.shape)\n",
    "print(\"y-train Shape:\",y_train.shape)\n",
    "print(\"y-test Shape:\",y_test.shape)\n"
   ]
  },
  {
   "cell_type": "code",
   "execution_count": null,
   "id": "6e9acd07-8f77-42a1-a83d-e0a0ff5924be",
   "metadata": {},
   "outputs": [],
   "source": []
  },
  {
   "cell_type": "code",
   "execution_count": 22,
   "id": "68ade6c9-dcfc-4ce8-a9bf-b20dc46f1d31",
   "metadata": {
    "tags": []
   },
   "outputs": [],
   "source": [
    "from sklearn.linear_model import LinearRegression"
   ]
  },
  {
   "cell_type": "code",
   "execution_count": 23,
   "id": "ba093989-ee57-4738-80e6-d8866e39a86e",
   "metadata": {
    "tags": []
   },
   "outputs": [],
   "source": [
    "modele_lineaire = LinearRegression()"
   ]
  },
  {
   "cell_type": "code",
   "execution_count": 24,
   "id": "5ffce77d-e783-422f-a167-3c9f8508ec76",
   "metadata": {
    "tags": []
   },
   "outputs": [
    {
     "data": {
      "text/html": [
       "<style>#sk-container-id-1 {color: black;}#sk-container-id-1 pre{padding: 0;}#sk-container-id-1 div.sk-toggleable {background-color: white;}#sk-container-id-1 label.sk-toggleable__label {cursor: pointer;display: block;width: 100%;margin-bottom: 0;padding: 0.3em;box-sizing: border-box;text-align: center;}#sk-container-id-1 label.sk-toggleable__label-arrow:before {content: \"▸\";float: left;margin-right: 0.25em;color: #696969;}#sk-container-id-1 label.sk-toggleable__label-arrow:hover:before {color: black;}#sk-container-id-1 div.sk-estimator:hover label.sk-toggleable__label-arrow:before {color: black;}#sk-container-id-1 div.sk-toggleable__content {max-height: 0;max-width: 0;overflow: hidden;text-align: left;background-color: #f0f8ff;}#sk-container-id-1 div.sk-toggleable__content pre {margin: 0.2em;color: black;border-radius: 0.25em;background-color: #f0f8ff;}#sk-container-id-1 input.sk-toggleable__control:checked~div.sk-toggleable__content {max-height: 200px;max-width: 100%;overflow: auto;}#sk-container-id-1 input.sk-toggleable__control:checked~label.sk-toggleable__label-arrow:before {content: \"▾\";}#sk-container-id-1 div.sk-estimator input.sk-toggleable__control:checked~label.sk-toggleable__label {background-color: #d4ebff;}#sk-container-id-1 div.sk-label input.sk-toggleable__control:checked~label.sk-toggleable__label {background-color: #d4ebff;}#sk-container-id-1 input.sk-hidden--visually {border: 0;clip: rect(1px 1px 1px 1px);clip: rect(1px, 1px, 1px, 1px);height: 1px;margin: -1px;overflow: hidden;padding: 0;position: absolute;width: 1px;}#sk-container-id-1 div.sk-estimator {font-family: monospace;background-color: #f0f8ff;border: 1px dotted black;border-radius: 0.25em;box-sizing: border-box;margin-bottom: 0.5em;}#sk-container-id-1 div.sk-estimator:hover {background-color: #d4ebff;}#sk-container-id-1 div.sk-parallel-item::after {content: \"\";width: 100%;border-bottom: 1px solid gray;flex-grow: 1;}#sk-container-id-1 div.sk-label:hover label.sk-toggleable__label {background-color: #d4ebff;}#sk-container-id-1 div.sk-serial::before {content: \"\";position: absolute;border-left: 1px solid gray;box-sizing: border-box;top: 0;bottom: 0;left: 50%;z-index: 0;}#sk-container-id-1 div.sk-serial {display: flex;flex-direction: column;align-items: center;background-color: white;padding-right: 0.2em;padding-left: 0.2em;position: relative;}#sk-container-id-1 div.sk-item {position: relative;z-index: 1;}#sk-container-id-1 div.sk-parallel {display: flex;align-items: stretch;justify-content: center;background-color: white;position: relative;}#sk-container-id-1 div.sk-item::before, #sk-container-id-1 div.sk-parallel-item::before {content: \"\";position: absolute;border-left: 1px solid gray;box-sizing: border-box;top: 0;bottom: 0;left: 50%;z-index: -1;}#sk-container-id-1 div.sk-parallel-item {display: flex;flex-direction: column;z-index: 1;position: relative;background-color: white;}#sk-container-id-1 div.sk-parallel-item:first-child::after {align-self: flex-end;width: 50%;}#sk-container-id-1 div.sk-parallel-item:last-child::after {align-self: flex-start;width: 50%;}#sk-container-id-1 div.sk-parallel-item:only-child::after {width: 0;}#sk-container-id-1 div.sk-dashed-wrapped {border: 1px dashed gray;margin: 0 0.4em 0.5em 0.4em;box-sizing: border-box;padding-bottom: 0.4em;background-color: white;}#sk-container-id-1 div.sk-label label {font-family: monospace;font-weight: bold;display: inline-block;line-height: 1.2em;}#sk-container-id-1 div.sk-label-container {text-align: center;}#sk-container-id-1 div.sk-container {/* jupyter's `normalize.less` sets `[hidden] { display: none; }` but bootstrap.min.css set `[hidden] { display: none !important; }` so we also need the `!important` here to be able to override the default hidden behavior on the sphinx rendered scikit-learn.org. See: https://github.com/scikit-learn/scikit-learn/issues/21755 */display: inline-block !important;position: relative;}#sk-container-id-1 div.sk-text-repr-fallback {display: none;}</style><div id=\"sk-container-id-1\" class=\"sk-top-container\"><div class=\"sk-text-repr-fallback\"><pre>LinearRegression()</pre><b>In a Jupyter environment, please rerun this cell to show the HTML representation or trust the notebook. <br />On GitHub, the HTML representation is unable to render, please try loading this page with nbviewer.org.</b></div><div class=\"sk-container\" hidden><div class=\"sk-item\"><div class=\"sk-estimator sk-toggleable\"><input class=\"sk-toggleable__control sk-hidden--visually\" id=\"sk-estimator-id-1\" type=\"checkbox\" checked><label for=\"sk-estimator-id-1\" class=\"sk-toggleable__label sk-toggleable__label-arrow\">LinearRegression</label><div class=\"sk-toggleable__content\"><pre>LinearRegression()</pre></div></div></div></div></div>"
      ],
      "text/plain": [
       "LinearRegression()"
      ]
     },
     "execution_count": 24,
     "metadata": {},
     "output_type": "execute_result"
    }
   ],
   "source": [
    "modele_lineaire.fit(X_train,y_train)"
   ]
  },
  {
   "cell_type": "code",
   "execution_count": 26,
   "id": "45eaeffb-6364-41ce-90e4-4e02a4313972",
   "metadata": {
    "tags": []
   },
   "outputs": [],
   "source": [
    "y_price_predits = modele_lineaire.predict(X_test)"
   ]
  },
  {
   "cell_type": "code",
   "execution_count": 30,
   "id": "8b7bd5d0-1903-499e-874e-f43d9c38d992",
   "metadata": {
    "tags": []
   },
   "outputs": [
    {
     "name": "stdout",
     "output_type": "stream",
     "text": [
      "[1375827.6030198  1594792.46082882 1378886.12389639 ... 1092889.80072731\n",
      " 1437100.12333213 1386649.52532991]\n"
     ]
    }
   ],
   "source": [
    "print(y_price_predits)"
   ]
  },
  {
   "cell_type": "code",
   "execution_count": 29,
   "id": "cb54f8bc-733d-4b1d-ac32-f40089cb5f0c",
   "metadata": {
    "tags": []
   },
   "outputs": [
    {
     "name": "stdout",
     "output_type": "stream",
     "text": [
      "[1435769.76883739 1668448.09805727 1762214.67958189 ...  975005.77366035\n",
      " 1393995.96182827 1036277.0624633 ]\n"
     ]
    }
   ],
   "source": [
    "print(y_test)"
   ]
  },
  {
   "cell_type": "code",
   "execution_count": 31,
   "id": "82cbfd51-0066-437b-9ff4-68a0d051fea2",
   "metadata": {
    "tags": []
   },
   "outputs": [],
   "source": [
    "resultats= pd.DataFrame(y_test ,y_price_predits)"
   ]
  },
  {
   "cell_type": "code",
   "execution_count": 32,
   "id": "e12b1afc-624d-4e6e-9f78-a4a089a378d9",
   "metadata": {
    "tags": []
   },
   "outputs": [
    {
     "data": {
      "text/html": [
       "<div>\n",
       "<style scoped>\n",
       "    .dataframe tbody tr th:only-of-type {\n",
       "        vertical-align: middle;\n",
       "    }\n",
       "\n",
       "    .dataframe tbody tr th {\n",
       "        vertical-align: top;\n",
       "    }\n",
       "\n",
       "    .dataframe thead th {\n",
       "        text-align: right;\n",
       "    }\n",
       "</style>\n",
       "<table border=\"1\" class=\"dataframe\">\n",
       "  <thead>\n",
       "    <tr style=\"text-align: right;\">\n",
       "      <th></th>\n",
       "      <th>0</th>\n",
       "    </tr>\n",
       "  </thead>\n",
       "  <tbody>\n",
       "    <tr>\n",
       "      <th>1.375828e+06</th>\n",
       "      <td>1.435770e+06</td>\n",
       "    </tr>\n",
       "    <tr>\n",
       "      <th>1.594792e+06</th>\n",
       "      <td>1.668448e+06</td>\n",
       "    </tr>\n",
       "    <tr>\n",
       "      <th>1.378886e+06</th>\n",
       "      <td>1.762215e+06</td>\n",
       "    </tr>\n",
       "    <tr>\n",
       "      <th>1.121330e+06</th>\n",
       "      <td>1.106261e+06</td>\n",
       "    </tr>\n",
       "    <tr>\n",
       "      <th>1.001248e+06</th>\n",
       "      <td>1.051124e+06</td>\n",
       "    </tr>\n",
       "    <tr>\n",
       "      <th>...</th>\n",
       "      <td>...</td>\n",
       "    </tr>\n",
       "    <tr>\n",
       "      <th>9.409852e+05</th>\n",
       "      <td>7.054441e+05</td>\n",
       "    </tr>\n",
       "    <tr>\n",
       "      <th>1.629427e+06</th>\n",
       "      <td>1.358647e+06</td>\n",
       "    </tr>\n",
       "    <tr>\n",
       "      <th>1.092890e+06</th>\n",
       "      <td>9.750058e+05</td>\n",
       "    </tr>\n",
       "    <tr>\n",
       "      <th>1.437100e+06</th>\n",
       "      <td>1.393996e+06</td>\n",
       "    </tr>\n",
       "    <tr>\n",
       "      <th>1.386650e+06</th>\n",
       "      <td>1.036277e+06</td>\n",
       "    </tr>\n",
       "  </tbody>\n",
       "</table>\n",
       "<p>1250 rows × 1 columns</p>\n",
       "</div>"
      ],
      "text/plain": [
       "                         0\n",
       "1.375828e+06  1.435770e+06\n",
       "1.594792e+06  1.668448e+06\n",
       "1.378886e+06  1.762215e+06\n",
       "1.121330e+06  1.106261e+06\n",
       "1.001248e+06  1.051124e+06\n",
       "...                    ...\n",
       "9.409852e+05  7.054441e+05\n",
       "1.629427e+06  1.358647e+06\n",
       "1.092890e+06  9.750058e+05\n",
       "1.437100e+06  1.393996e+06\n",
       "1.386650e+06  1.036277e+06\n",
       "\n",
       "[1250 rows x 1 columns]"
      ]
     },
     "execution_count": 32,
     "metadata": {},
     "output_type": "execute_result"
    }
   ],
   "source": [
    "resultats"
   ]
  },
  {
   "cell_type": "code",
   "execution_count": 33,
   "id": "37b87357-3714-42e4-9feb-a47389274239",
   "metadata": {
    "tags": []
   },
   "outputs": [],
   "source": [
    "from sklearn.metrics import mean_squared_error, r2_score"
   ]
  },
  {
   "cell_type": "code",
   "execution_count": 34,
   "id": "3394b686-3769-4285-b0ee-a2e626ce5a33",
   "metadata": {
    "tags": []
   },
   "outputs": [
    {
     "name": "stdout",
     "output_type": "stream",
     "text": [
      "MSE de la Regression Lineaire: 70345556190.3212\n"
     ]
    }
   ],
   "source": [
    "print(\"MSE de la Regression Lineaire:\", mean_squared_error(y_test,y_price_predits))"
   ]
  },
  {
   "cell_type": "code",
   "execution_count": 35,
   "id": "07fb9156-c895-4f75-afed-5d92b349514f",
   "metadata": {
    "tags": []
   },
   "outputs": [
    {
     "name": "stdout",
     "output_type": "stream",
     "text": [
      "R2 Score de la regression lineaire: 0.43322233931263276\n"
     ]
    }
   ],
   "source": [
    "print(\"R2 Score de la regression lineaire:\",r2_score(y_test,y_price_predits))"
   ]
  },
  {
   "cell_type": "code",
   "execution_count": 36,
   "id": "66cb974c-575d-4f9a-bc98-827da3b5f294",
   "metadata": {
    "tags": []
   },
   "outputs": [],
   "source": [
    "import matplotlib.pyplot as plt"
   ]
  },
  {
   "cell_type": "code",
   "execution_count": 37,
   "id": "cd8e6cd1-6ad7-4b37-82bb-18b777de7f41",
   "metadata": {
    "tags": []
   },
   "outputs": [
    {
     "data": {
      "image/png": "[encoded data removed]",
      "text/plain": [
       "<Figure size 640x480 with 1 Axes>"
      ]
     },
     "metadata": {},
     "output_type": "display_data"
    }
   ],
   "source": [
    "plt.scatter(X_train, y_train, color='blue', label='Train Data')\n",
    "plt.scatter(X_test, y_test, color='black', label='Train Data')\n",
    "plt.plot(X_train, modele_lineaire.predict(X_train), color='red', label= ' Ligne de la Regression') \n",
    "plt.xlabel('Salaire')\n",
    "plt.ylabel('Price')\n",
    "plt.title('Regression Lineaire Simple')\n",
    "plt.legend()\n",
    "plt.show()"
   ]
  },
  {
   "cell_type": "code",
   "execution_count": 38,
   "id": "723e1819-2a87-4b48-a1bf-612bb0cb1736",
   "metadata": {
    "tags": []
   },
   "outputs": [
    {
     "data": {
      "text/html": [
       "<div>\n",
       "<style scoped>\n",
       "    .dataframe tbody tr th:only-of-type {\n",
       "        vertical-align: middle;\n",
       "    }\n",
       "\n",
       "    .dataframe tbody tr th {\n",
       "        vertical-align: top;\n",
       "    }\n",
       "\n",
       "    .dataframe thead th {\n",
       "        text-align: right;\n",
       "    }\n",
       "</style>\n",
       "<table border=\"1\" class=\"dataframe\">\n",
       "  <thead>\n",
       "    <tr style=\"text-align: right;\">\n",
       "      <th></th>\n",
       "      <th>Avg. Area Income</th>\n",
       "      <th>Price</th>\n",
       "    </tr>\n",
       "  </thead>\n",
       "  <tbody>\n",
       "    <tr>\n",
       "      <th>0</th>\n",
       "      <td>79545.458574</td>\n",
       "      <td>1.059034e+06</td>\n",
       "    </tr>\n",
       "    <tr>\n",
       "      <th>1</th>\n",
       "      <td>79248.642455</td>\n",
       "      <td>1.505891e+06</td>\n",
       "    </tr>\n",
       "    <tr>\n",
       "      <th>2</th>\n",
       "      <td>61287.067179</td>\n",
       "      <td>1.058988e+06</td>\n",
       "    </tr>\n",
       "    <tr>\n",
       "      <th>3</th>\n",
       "      <td>63345.240046</td>\n",
       "      <td>1.260617e+06</td>\n",
       "    </tr>\n",
       "    <tr>\n",
       "      <th>4</th>\n",
       "      <td>59982.197226</td>\n",
       "      <td>6.309435e+05</td>\n",
       "    </tr>\n",
       "    <tr>\n",
       "      <th>...</th>\n",
       "      <td>...</td>\n",
       "      <td>...</td>\n",
       "    </tr>\n",
       "    <tr>\n",
       "      <th>4995</th>\n",
       "      <td>60567.944140</td>\n",
       "      <td>1.060194e+06</td>\n",
       "    </tr>\n",
       "    <tr>\n",
       "      <th>4996</th>\n",
       "      <td>78491.275435</td>\n",
       "      <td>1.482618e+06</td>\n",
       "    </tr>\n",
       "    <tr>\n",
       "      <th>4997</th>\n",
       "      <td>63390.686886</td>\n",
       "      <td>1.030730e+06</td>\n",
       "    </tr>\n",
       "    <tr>\n",
       "      <th>4998</th>\n",
       "      <td>68001.331235</td>\n",
       "      <td>1.198657e+06</td>\n",
       "    </tr>\n",
       "    <tr>\n",
       "      <th>4999</th>\n",
       "      <td>65510.581804</td>\n",
       "      <td>1.298950e+06</td>\n",
       "    </tr>\n",
       "  </tbody>\n",
       "</table>\n",
       "<p>5000 rows × 2 columns</p>\n",
       "</div>"
      ],
      "text/plain": [
       "      Avg. Area Income         Price\n",
       "0         79545.458574  1.059034e+06\n",
       "1         79248.642455  1.505891e+06\n",
       "2         61287.067179  1.058988e+06\n",
       "3         63345.240046  1.260617e+06\n",
       "4         59982.197226  6.309435e+05\n",
       "...                ...           ...\n",
       "4995      60567.944140  1.060194e+06\n",
       "4996      78491.275435  1.482618e+06\n",
       "4997      63390.686886  1.030730e+06\n",
       "4998      68001.331235  1.198657e+06\n",
       "4999      65510.581804  1.298950e+06\n",
       "\n",
       "[5000 rows x 2 columns]"
      ]
     },
     "execution_count": 38,
     "metadata": {},
     "output_type": "execute_result"
    }
   ],
   "source": [
    "Filtered_data"
   ]
  },
  {
   "cell_type": "code",
   "execution_count": 44,
   "id": "b1e1f32a-82c6-4a50-8323-24410d8b3325",
   "metadata": {
    "tags": []
   },
   "outputs": [
    {
     "name": "stdout",
     "output_type": "stream",
     "text": [
      "[21966026.07465914]\n"
     ]
    }
   ],
   "source": [
    "print(modele_lineaire.predict([[1.059034e+06]]))\n"
   ]
  },
  {
   "cell_type": "code",
   "execution_count": 42,
   "id": "ff2e6cd4-3464-4f68-b59c-d5460c9f3a2f",
   "metadata": {
    "tags": []
   },
   "outputs": [],
   "source": [
    "difference=( y_test - y_price_predits)"
   ]
  },
  {
   "cell_type": "code",
   "execution_count": 43,
   "id": "da100b0d-6b9f-40a4-9a2b-53f1f703e2f6",
   "metadata": {
    "tags": []
   },
   "outputs": [
    {
     "data": {
      "text/html": [
       "<div>\n",
       "<style scoped>\n",
       "    .dataframe tbody tr th:only-of-type {\n",
       "        vertical-align: middle;\n",
       "    }\n",
       "\n",
       "    .dataframe tbody tr th {\n",
       "        vertical-align: top;\n",
       "    }\n",
       "\n",
       "    .dataframe thead th {\n",
       "        text-align: right;\n",
       "    }\n",
       "</style>\n",
       "<table border=\"1\" class=\"dataframe\">\n",
       "  <thead>\n",
       "    <tr style=\"text-align: right;\">\n",
       "      <th></th>\n",
       "      <th>y-Price-reel</th>\n",
       "      <th>y-Price-predits</th>\n",
       "      <th>Difference</th>\n",
       "    </tr>\n",
       "  </thead>\n",
       "  <tbody>\n",
       "    <tr>\n",
       "      <th>0</th>\n",
       "      <td>1.435770e+06</td>\n",
       "      <td>1.375828e+06</td>\n",
       "      <td>59942.165818</td>\n",
       "    </tr>\n",
       "    <tr>\n",
       "      <th>1</th>\n",
       "      <td>1.668448e+06</td>\n",
       "      <td>1.594792e+06</td>\n",
       "      <td>73655.637228</td>\n",
       "    </tr>\n",
       "    <tr>\n",
       "      <th>2</th>\n",
       "      <td>1.762215e+06</td>\n",
       "      <td>1.378886e+06</td>\n",
       "      <td>383328.555685</td>\n",
       "    </tr>\n",
       "    <tr>\n",
       "      <th>3</th>\n",
       "      <td>1.106261e+06</td>\n",
       "      <td>1.121330e+06</td>\n",
       "      <td>-15068.763964</td>\n",
       "    </tr>\n",
       "    <tr>\n",
       "      <th>4</th>\n",
       "      <td>1.051124e+06</td>\n",
       "      <td>1.001248e+06</td>\n",
       "      <td>49875.895328</td>\n",
       "    </tr>\n",
       "    <tr>\n",
       "      <th>...</th>\n",
       "      <td>...</td>\n",
       "      <td>...</td>\n",
       "      <td>...</td>\n",
       "    </tr>\n",
       "    <tr>\n",
       "      <th>1245</th>\n",
       "      <td>7.054441e+05</td>\n",
       "      <td>9.409852e+05</td>\n",
       "      <td>-235541.106927</td>\n",
       "    </tr>\n",
       "    <tr>\n",
       "      <th>1246</th>\n",
       "      <td>1.358647e+06</td>\n",
       "      <td>1.629427e+06</td>\n",
       "      <td>-270780.446581</td>\n",
       "    </tr>\n",
       "    <tr>\n",
       "      <th>1247</th>\n",
       "      <td>9.750058e+05</td>\n",
       "      <td>1.092890e+06</td>\n",
       "      <td>-117884.027067</td>\n",
       "    </tr>\n",
       "    <tr>\n",
       "      <th>1248</th>\n",
       "      <td>1.393996e+06</td>\n",
       "      <td>1.437100e+06</td>\n",
       "      <td>-43104.161504</td>\n",
       "    </tr>\n",
       "    <tr>\n",
       "      <th>1249</th>\n",
       "      <td>1.036277e+06</td>\n",
       "      <td>1.386650e+06</td>\n",
       "      <td>-350372.462867</td>\n",
       "    </tr>\n",
       "  </tbody>\n",
       "</table>\n",
       "<p>1250 rows × 3 columns</p>\n",
       "</div>"
      ],
      "text/plain": [
       "      y-Price-reel  y-Price-predits     Difference\n",
       "0     1.435770e+06     1.375828e+06   59942.165818\n",
       "1     1.668448e+06     1.594792e+06   73655.637228\n",
       "2     1.762215e+06     1.378886e+06  383328.555685\n",
       "3     1.106261e+06     1.121330e+06  -15068.763964\n",
       "4     1.051124e+06     1.001248e+06   49875.895328\n",
       "...            ...              ...            ...\n",
       "1245  7.054441e+05     9.409852e+05 -235541.106927\n",
       "1246  1.358647e+06     1.629427e+06 -270780.446581\n",
       "1247  9.750058e+05     1.092890e+06 -117884.027067\n",
       "1248  1.393996e+06     1.437100e+06  -43104.161504\n",
       "1249  1.036277e+06     1.386650e+06 -350372.462867\n",
       "\n",
       "[1250 rows x 3 columns]"
      ]
     },
     "execution_count": 43,
     "metadata": {},
     "output_type": "execute_result"
    }
   ],
   "source": [
    "resultats= pd.DataFrame({'y-Price-reel': y_test ,'y-Price-predits':y_price_predits, 'Difference': difference})\n",
    "resultats"
   ]
  },
  {
   "cell_type": "code",
   "execution_count": null,
   "id": "4f005e4d-62c1-4600-ae85-d86c6df90752",
   "metadata": {},
   "outputs": [],
   "source": []
  }
 ],
 "metadata": {
  "kernelspec": {
   "display_name": "Python 3 (ipykernel)",
   "language": "python",
   "name": "python3"
  },
  "language_info": {
   "codemirror_mode": {
    "name": "ipython",
    "version": 3
   },
   "file_extension": ".py",
   "mimetype": "text/x-python",
   "name": "python",
   "nbconvert_exporter": "python",
   "pygments_lexer": "ipython3",
   "version": "3.11.5"
  }
 },
 "nbformat": 4,
 "nbformat_minor": 5
}
